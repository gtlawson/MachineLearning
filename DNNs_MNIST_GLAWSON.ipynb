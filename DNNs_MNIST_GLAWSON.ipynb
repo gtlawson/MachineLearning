{
 "cells": [
  {
   "cell_type": "markdown",
   "metadata": {},
   "source": [
    "# Neural Networks to Identify Handwritten Digits \n",
    "## Gary Lawson - 26 March 2019"
   ]
  },
  {
   "cell_type": "markdown",
   "metadata": {},
   "source": [
    "## Introduction"
   ]
  },
  {
   "cell_type": "markdown",
   "metadata": {},
   "source": [
    "The MINST dataset is comprised of thousands of images of handwritten digits ranging from 0 to 9.  Training a data model on labeled data can provide for prediction of future handwritten digits never seen by the model, allowing computer imaging to reduce the need for human interaction in detemining these handwritten characters.  In this experiement, each image is composed of 748 pixel darkeness values aranged in a 28 x 28 matrix of pixels.  Each pixel in the matrix is a feature of its own with a darkness value of 0 to 255, where 0 is white and 255 is black.  The data for this experiment was downloaded from the Kaggle competition named *Digit Recognizer* (link below), and was provided as separate train and test .csv files.\n",
    "\n",
    "https://www.kaggle.com/c/digit-recognizer/data\n",
    "\n",
    "The goal of this exercise is to create a neural network experiment design that tests a minimum of two separate experimental factors to identify the best performing model.  The experiments will be evaluated on processing time and the accuracy of both training cross-validation and test predictions.  The results of each design will be submitted to the *Digit Recognizer* Kaggle competition for scoring.    \n",
    "\n",
    "Python will be used in a Jupyter Notebook to explore the data and produce a series of graphical representations to help visualize the survey data as well as develop several models for evaluation. Tensorflow and Keras will be used to generate the neural networks.  "
   ]
  },
  {
   "cell_type": "markdown",
   "metadata": {},
   "source": [
    "## Initial EDA"
   ]
  },
  {
   "cell_type": "code",
   "execution_count": 1,
   "metadata": {},
   "outputs": [],
   "source": [
    "# Seed value for random number generators to obtain reproducible results\n",
    "RANDOM_SEED = 1"
   ]
  },
  {
   "cell_type": "code",
   "execution_count": 2,
   "metadata": {},
   "outputs": [
    {
     "name": "stdout",
     "output_type": "stream",
     "text": [
      "All packages have been sucessfully imported.\n"
     ]
    }
   ],
   "source": [
    "# Import base packages into the namespace for this program\n",
    "import numpy as np # for creating and working with arrays\n",
    "import pandas as pd # for creating and working with dataframes\n",
    "from math import sqrt  # for root mean-squared error calculation\n",
    "import time # for recording times on model runs\n",
    "\n",
    "# Modeling routines from Scikit Learn packages\n",
    "from sklearn.metrics import accuracy_score, confusion_matrix, classification_report # metrics for evaluating models\n",
    "from sklearn.preprocessing import StandardScaler, MinMaxScaler # data scaling packages\n",
    "from sklearn.model_selection import train_test_split, cross_val_predict, cross_val_score, \\\n",
    "                                    KFold, RandomizedSearchCV, GridSearchCV # model selection packages\n",
    "\n",
    "# Import plotting packages\n",
    "import matplotlib.pyplot as plt  # static plotting\n",
    "import matplotlib as mpl\n",
    "%matplotlib inline\n",
    "\n",
    "# Import other packages\n",
    "import pickle  # used for dumping and loading binary files\n",
    "from collections import OrderedDict  # for creating table output\n",
    "\n",
    "# Import Tensorflow neural network model packages\n",
    "import tensorflow as tf\n",
    "#from tensorflow_graph_in_jupyter import show_graph\n",
    "\n",
    "# Import Keras neural network model package\n",
    "from tensorflow.keras import layers\n",
    "\n",
    "print('All packages have been sucessfully imported.')"
   ]
  },
  {
   "cell_type": "code",
   "execution_count": 3,
   "metadata": {},
   "outputs": [
    {
     "name": "stdout",
     "output_type": "stream",
     "text": [
      "Data imports successful.\n"
     ]
    }
   ],
   "source": [
    "# Read MNIST data train and test data, creating dataframes for both.\n",
    "train_import = pd.read_csv('train.csv')\n",
    "test_import = pd.read_csv('test.csv')\n",
    "print('Data imports successful.')"
   ]
  },
  {
   "cell_type": "code",
   "execution_count": 4,
   "metadata": {},
   "outputs": [
    {
     "name": "stdout",
     "output_type": "stream",
     "text": [
      "\n",
      "Feature List (including target variable(s)): \n",
      " Index(['label', 'pixel0', 'pixel1', 'pixel2', 'pixel3', 'pixel4', 'pixel5',\n",
      "       'pixel6', 'pixel7', 'pixel8',\n",
      "       ...\n",
      "       'pixel774', 'pixel775', 'pixel776', 'pixel777', 'pixel778', 'pixel779',\n",
      "       'pixel780', 'pixel781', 'pixel782', 'pixel783'],\n",
      "      dtype='object', length=785)\n",
      "\n",
      "Number of Features (including target variable(s):  785\n",
      "\n",
      "DataFrame (first five rows):\n"
     ]
    },
    {
     "data": {
      "text/html": [
       "<div>\n",
       "<style scoped>\n",
       "    .dataframe tbody tr th:only-of-type {\n",
       "        vertical-align: middle;\n",
       "    }\n",
       "\n",
       "    .dataframe tbody tr th {\n",
       "        vertical-align: top;\n",
       "    }\n",
       "\n",
       "    .dataframe thead th {\n",
       "        text-align: right;\n",
       "    }\n",
       "</style>\n",
       "<table border=\"1\" class=\"dataframe\">\n",
       "  <thead>\n",
       "    <tr style=\"text-align: right;\">\n",
       "      <th></th>\n",
       "      <th>label</th>\n",
       "      <th>pixel0</th>\n",
       "      <th>pixel1</th>\n",
       "      <th>pixel2</th>\n",
       "      <th>pixel3</th>\n",
       "      <th>pixel4</th>\n",
       "      <th>pixel5</th>\n",
       "      <th>pixel6</th>\n",
       "      <th>pixel7</th>\n",
       "      <th>pixel8</th>\n",
       "      <th>...</th>\n",
       "      <th>pixel774</th>\n",
       "      <th>pixel775</th>\n",
       "      <th>pixel776</th>\n",
       "      <th>pixel777</th>\n",
       "      <th>pixel778</th>\n",
       "      <th>pixel779</th>\n",
       "      <th>pixel780</th>\n",
       "      <th>pixel781</th>\n",
       "      <th>pixel782</th>\n",
       "      <th>pixel783</th>\n",
       "    </tr>\n",
       "  </thead>\n",
       "  <tbody>\n",
       "    <tr>\n",
       "      <th>0</th>\n",
       "      <td>1</td>\n",
       "      <td>0</td>\n",
       "      <td>0</td>\n",
       "      <td>0</td>\n",
       "      <td>0</td>\n",
       "      <td>0</td>\n",
       "      <td>0</td>\n",
       "      <td>0</td>\n",
       "      <td>0</td>\n",
       "      <td>0</td>\n",
       "      <td>...</td>\n",
       "      <td>0</td>\n",
       "      <td>0</td>\n",
       "      <td>0</td>\n",
       "      <td>0</td>\n",
       "      <td>0</td>\n",
       "      <td>0</td>\n",
       "      <td>0</td>\n",
       "      <td>0</td>\n",
       "      <td>0</td>\n",
       "      <td>0</td>\n",
       "    </tr>\n",
       "    <tr>\n",
       "      <th>1</th>\n",
       "      <td>0</td>\n",
       "      <td>0</td>\n",
       "      <td>0</td>\n",
       "      <td>0</td>\n",
       "      <td>0</td>\n",
       "      <td>0</td>\n",
       "      <td>0</td>\n",
       "      <td>0</td>\n",
       "      <td>0</td>\n",
       "      <td>0</td>\n",
       "      <td>...</td>\n",
       "      <td>0</td>\n",
       "      <td>0</td>\n",
       "      <td>0</td>\n",
       "      <td>0</td>\n",
       "      <td>0</td>\n",
       "      <td>0</td>\n",
       "      <td>0</td>\n",
       "      <td>0</td>\n",
       "      <td>0</td>\n",
       "      <td>0</td>\n",
       "    </tr>\n",
       "    <tr>\n",
       "      <th>2</th>\n",
       "      <td>1</td>\n",
       "      <td>0</td>\n",
       "      <td>0</td>\n",
       "      <td>0</td>\n",
       "      <td>0</td>\n",
       "      <td>0</td>\n",
       "      <td>0</td>\n",
       "      <td>0</td>\n",
       "      <td>0</td>\n",
       "      <td>0</td>\n",
       "      <td>...</td>\n",
       "      <td>0</td>\n",
       "      <td>0</td>\n",
       "      <td>0</td>\n",
       "      <td>0</td>\n",
       "      <td>0</td>\n",
       "      <td>0</td>\n",
       "      <td>0</td>\n",
       "      <td>0</td>\n",
       "      <td>0</td>\n",
       "      <td>0</td>\n",
       "    </tr>\n",
       "    <tr>\n",
       "      <th>3</th>\n",
       "      <td>4</td>\n",
       "      <td>0</td>\n",
       "      <td>0</td>\n",
       "      <td>0</td>\n",
       "      <td>0</td>\n",
       "      <td>0</td>\n",
       "      <td>0</td>\n",
       "      <td>0</td>\n",
       "      <td>0</td>\n",
       "      <td>0</td>\n",
       "      <td>...</td>\n",
       "      <td>0</td>\n",
       "      <td>0</td>\n",
       "      <td>0</td>\n",
       "      <td>0</td>\n",
       "      <td>0</td>\n",
       "      <td>0</td>\n",
       "      <td>0</td>\n",
       "      <td>0</td>\n",
       "      <td>0</td>\n",
       "      <td>0</td>\n",
       "    </tr>\n",
       "    <tr>\n",
       "      <th>4</th>\n",
       "      <td>0</td>\n",
       "      <td>0</td>\n",
       "      <td>0</td>\n",
       "      <td>0</td>\n",
       "      <td>0</td>\n",
       "      <td>0</td>\n",
       "      <td>0</td>\n",
       "      <td>0</td>\n",
       "      <td>0</td>\n",
       "      <td>0</td>\n",
       "      <td>...</td>\n",
       "      <td>0</td>\n",
       "      <td>0</td>\n",
       "      <td>0</td>\n",
       "      <td>0</td>\n",
       "      <td>0</td>\n",
       "      <td>0</td>\n",
       "      <td>0</td>\n",
       "      <td>0</td>\n",
       "      <td>0</td>\n",
       "      <td>0</td>\n",
       "    </tr>\n",
       "  </tbody>\n",
       "</table>\n",
       "<p>5 rows × 785 columns</p>\n",
       "</div>"
      ],
      "text/plain": [
       "   label  pixel0  pixel1  pixel2  pixel3  pixel4  pixel5  pixel6  pixel7  \\\n",
       "0      1       0       0       0       0       0       0       0       0   \n",
       "1      0       0       0       0       0       0       0       0       0   \n",
       "2      1       0       0       0       0       0       0       0       0   \n",
       "3      4       0       0       0       0       0       0       0       0   \n",
       "4      0       0       0       0       0       0       0       0       0   \n",
       "\n",
       "   pixel8  ...  pixel774  pixel775  pixel776  pixel777  pixel778  pixel779  \\\n",
       "0       0  ...         0         0         0         0         0         0   \n",
       "1       0  ...         0         0         0         0         0         0   \n",
       "2       0  ...         0         0         0         0         0         0   \n",
       "3       0  ...         0         0         0         0         0         0   \n",
       "4       0  ...         0         0         0         0         0         0   \n",
       "\n",
       "   pixel780  pixel781  pixel782  pixel783  \n",
       "0         0         0         0         0  \n",
       "1         0         0         0         0  \n",
       "2         0         0         0         0  \n",
       "3         0         0         0         0  \n",
       "4         0         0         0         0  \n",
       "\n",
       "[5 rows x 785 columns]"
      ]
     },
     "execution_count": 4,
     "metadata": {},
     "output_type": "execute_result"
    }
   ],
   "source": [
    "# Check the pandas DataFrame object train_import\n",
    "print('\\nFeature List (including target variable(s)): \\n', train_import.columns)\n",
    "print('\\nNumber of Features (including target variable(s): ', len(train_import.columns))\n",
    "print('\\nDataFrame (first five rows):')\n",
    "train_import.head()"
   ]
  },
  {
   "cell_type": "markdown",
   "metadata": {},
   "source": [
    "#### <font color='blue'>Table 1: First Five Rows of Train Data</font>"
   ]
  },
  {
   "cell_type": "markdown",
   "metadata": {},
   "source": [
    "Table 1 shows that there are 785 columns provided in the dataset that represent the 784 features and 1 target variable.  This aligns with what is expected from the *Digit Recognizer* Kaggle Competition description.  Additionally, each feature column is labeled as \"pixelX\" where X refers to the pixel number."
   ]
  },
  {
   "cell_type": "code",
   "execution_count": 5,
   "metadata": {},
   "outputs": [
    {
     "name": "stdout",
     "output_type": "stream",
     "text": [
      "\n",
      "General description of the DataFrame:\n",
      "<class 'pandas.core.frame.DataFrame'>\n",
      "RangeIndex: 42000 entries, 0 to 41999\n",
      "Columns: 785 entries, label to pixel783\n",
      "dtypes: int64(785)\n",
      "memory usage: 251.5 MB\n",
      "None\n"
     ]
    }
   ],
   "source": [
    "# Look at general information about the training data\n",
    "print('\\nGeneral description of the DataFrame:')\n",
    "print(train_import.info())"
   ]
  },
  {
   "cell_type": "markdown",
   "metadata": {},
   "source": [
    "There are 42,000 observations in the dataset, each having 785 features.  All data types are int64, meaning they are 64-bit integers.  The memory usage is 251.5 MB, which appears larger than other datasets I have worked with in the past.  This suggests that the time for computation may be slower than I have seen in the past."
   ]
  },
  {
   "cell_type": "code",
   "execution_count": 6,
   "metadata": {},
   "outputs": [
    {
     "name": "stdout",
     "output_type": "stream",
     "text": [
      "\n",
      "Max number of values per training dataset feature that are NaN: 0\n",
      "\n",
      "Max number of values per test dataset feature that are NaN: 0\n"
     ]
    }
   ],
   "source": [
    "# Check to see if there are any null values in the dataset.\n",
    "print('\\nMax number of values per training dataset feature that are NaN:', train_import.isnull().sum().max())\n",
    "print('\\nMax number of values per test dataset feature that are NaN:', test_import.isnull().sum().max())"
   ]
  },
  {
   "cell_type": "markdown",
   "metadata": {},
   "source": [
    "Because the max summed value of NaN values is zero, this indicates that there are zero null values in the training and test datasets and it can be assumed that both datasets are complete."
   ]
  },
  {
   "cell_type": "code",
   "execution_count": 7,
   "metadata": {},
   "outputs": [
    {
     "name": "stdout",
     "output_type": "stream",
     "text": [
      "\n",
      "Descriptive statistics of the DataFrame:\n"
     ]
    },
    {
     "data": {
      "text/html": [
       "<div>\n",
       "<style scoped>\n",
       "    .dataframe tbody tr th:only-of-type {\n",
       "        vertical-align: middle;\n",
       "    }\n",
       "\n",
       "    .dataframe tbody tr th {\n",
       "        vertical-align: top;\n",
       "    }\n",
       "\n",
       "    .dataframe thead th {\n",
       "        text-align: right;\n",
       "    }\n",
       "</style>\n",
       "<table border=\"1\" class=\"dataframe\">\n",
       "  <thead>\n",
       "    <tr style=\"text-align: right;\">\n",
       "      <th></th>\n",
       "      <th>label</th>\n",
       "      <th>pixel0</th>\n",
       "      <th>pixel1</th>\n",
       "      <th>pixel2</th>\n",
       "      <th>pixel3</th>\n",
       "      <th>pixel4</th>\n",
       "      <th>pixel5</th>\n",
       "      <th>pixel6</th>\n",
       "      <th>pixel7</th>\n",
       "      <th>pixel8</th>\n",
       "      <th>...</th>\n",
       "      <th>pixel774</th>\n",
       "      <th>pixel775</th>\n",
       "      <th>pixel776</th>\n",
       "      <th>pixel777</th>\n",
       "      <th>pixel778</th>\n",
       "      <th>pixel779</th>\n",
       "      <th>pixel780</th>\n",
       "      <th>pixel781</th>\n",
       "      <th>pixel782</th>\n",
       "      <th>pixel783</th>\n",
       "    </tr>\n",
       "  </thead>\n",
       "  <tbody>\n",
       "    <tr>\n",
       "      <th>count</th>\n",
       "      <td>42000.000000</td>\n",
       "      <td>42000.0</td>\n",
       "      <td>42000.0</td>\n",
       "      <td>42000.0</td>\n",
       "      <td>42000.0</td>\n",
       "      <td>42000.0</td>\n",
       "      <td>42000.0</td>\n",
       "      <td>42000.0</td>\n",
       "      <td>42000.0</td>\n",
       "      <td>42000.0</td>\n",
       "      <td>...</td>\n",
       "      <td>42000.000000</td>\n",
       "      <td>42000.000000</td>\n",
       "      <td>42000.000000</td>\n",
       "      <td>42000.00000</td>\n",
       "      <td>42000.000000</td>\n",
       "      <td>42000.000000</td>\n",
       "      <td>42000.0</td>\n",
       "      <td>42000.0</td>\n",
       "      <td>42000.0</td>\n",
       "      <td>42000.0</td>\n",
       "    </tr>\n",
       "    <tr>\n",
       "      <th>mean</th>\n",
       "      <td>4.456643</td>\n",
       "      <td>0.0</td>\n",
       "      <td>0.0</td>\n",
       "      <td>0.0</td>\n",
       "      <td>0.0</td>\n",
       "      <td>0.0</td>\n",
       "      <td>0.0</td>\n",
       "      <td>0.0</td>\n",
       "      <td>0.0</td>\n",
       "      <td>0.0</td>\n",
       "      <td>...</td>\n",
       "      <td>0.219286</td>\n",
       "      <td>0.117095</td>\n",
       "      <td>0.059024</td>\n",
       "      <td>0.02019</td>\n",
       "      <td>0.017238</td>\n",
       "      <td>0.002857</td>\n",
       "      <td>0.0</td>\n",
       "      <td>0.0</td>\n",
       "      <td>0.0</td>\n",
       "      <td>0.0</td>\n",
       "    </tr>\n",
       "    <tr>\n",
       "      <th>std</th>\n",
       "      <td>2.887730</td>\n",
       "      <td>0.0</td>\n",
       "      <td>0.0</td>\n",
       "      <td>0.0</td>\n",
       "      <td>0.0</td>\n",
       "      <td>0.0</td>\n",
       "      <td>0.0</td>\n",
       "      <td>0.0</td>\n",
       "      <td>0.0</td>\n",
       "      <td>0.0</td>\n",
       "      <td>...</td>\n",
       "      <td>6.312890</td>\n",
       "      <td>4.633819</td>\n",
       "      <td>3.274488</td>\n",
       "      <td>1.75987</td>\n",
       "      <td>1.894498</td>\n",
       "      <td>0.414264</td>\n",
       "      <td>0.0</td>\n",
       "      <td>0.0</td>\n",
       "      <td>0.0</td>\n",
       "      <td>0.0</td>\n",
       "    </tr>\n",
       "    <tr>\n",
       "      <th>min</th>\n",
       "      <td>0.000000</td>\n",
       "      <td>0.0</td>\n",
       "      <td>0.0</td>\n",
       "      <td>0.0</td>\n",
       "      <td>0.0</td>\n",
       "      <td>0.0</td>\n",
       "      <td>0.0</td>\n",
       "      <td>0.0</td>\n",
       "      <td>0.0</td>\n",
       "      <td>0.0</td>\n",
       "      <td>...</td>\n",
       "      <td>0.000000</td>\n",
       "      <td>0.000000</td>\n",
       "      <td>0.000000</td>\n",
       "      <td>0.00000</td>\n",
       "      <td>0.000000</td>\n",
       "      <td>0.000000</td>\n",
       "      <td>0.0</td>\n",
       "      <td>0.0</td>\n",
       "      <td>0.0</td>\n",
       "      <td>0.0</td>\n",
       "    </tr>\n",
       "    <tr>\n",
       "      <th>25%</th>\n",
       "      <td>2.000000</td>\n",
       "      <td>0.0</td>\n",
       "      <td>0.0</td>\n",
       "      <td>0.0</td>\n",
       "      <td>0.0</td>\n",
       "      <td>0.0</td>\n",
       "      <td>0.0</td>\n",
       "      <td>0.0</td>\n",
       "      <td>0.0</td>\n",
       "      <td>0.0</td>\n",
       "      <td>...</td>\n",
       "      <td>0.000000</td>\n",
       "      <td>0.000000</td>\n",
       "      <td>0.000000</td>\n",
       "      <td>0.00000</td>\n",
       "      <td>0.000000</td>\n",
       "      <td>0.000000</td>\n",
       "      <td>0.0</td>\n",
       "      <td>0.0</td>\n",
       "      <td>0.0</td>\n",
       "      <td>0.0</td>\n",
       "    </tr>\n",
       "    <tr>\n",
       "      <th>50%</th>\n",
       "      <td>4.000000</td>\n",
       "      <td>0.0</td>\n",
       "      <td>0.0</td>\n",
       "      <td>0.0</td>\n",
       "      <td>0.0</td>\n",
       "      <td>0.0</td>\n",
       "      <td>0.0</td>\n",
       "      <td>0.0</td>\n",
       "      <td>0.0</td>\n",
       "      <td>0.0</td>\n",
       "      <td>...</td>\n",
       "      <td>0.000000</td>\n",
       "      <td>0.000000</td>\n",
       "      <td>0.000000</td>\n",
       "      <td>0.00000</td>\n",
       "      <td>0.000000</td>\n",
       "      <td>0.000000</td>\n",
       "      <td>0.0</td>\n",
       "      <td>0.0</td>\n",
       "      <td>0.0</td>\n",
       "      <td>0.0</td>\n",
       "    </tr>\n",
       "    <tr>\n",
       "      <th>75%</th>\n",
       "      <td>7.000000</td>\n",
       "      <td>0.0</td>\n",
       "      <td>0.0</td>\n",
       "      <td>0.0</td>\n",
       "      <td>0.0</td>\n",
       "      <td>0.0</td>\n",
       "      <td>0.0</td>\n",
       "      <td>0.0</td>\n",
       "      <td>0.0</td>\n",
       "      <td>0.0</td>\n",
       "      <td>...</td>\n",
       "      <td>0.000000</td>\n",
       "      <td>0.000000</td>\n",
       "      <td>0.000000</td>\n",
       "      <td>0.00000</td>\n",
       "      <td>0.000000</td>\n",
       "      <td>0.000000</td>\n",
       "      <td>0.0</td>\n",
       "      <td>0.0</td>\n",
       "      <td>0.0</td>\n",
       "      <td>0.0</td>\n",
       "    </tr>\n",
       "    <tr>\n",
       "      <th>max</th>\n",
       "      <td>9.000000</td>\n",
       "      <td>0.0</td>\n",
       "      <td>0.0</td>\n",
       "      <td>0.0</td>\n",
       "      <td>0.0</td>\n",
       "      <td>0.0</td>\n",
       "      <td>0.0</td>\n",
       "      <td>0.0</td>\n",
       "      <td>0.0</td>\n",
       "      <td>0.0</td>\n",
       "      <td>...</td>\n",
       "      <td>254.000000</td>\n",
       "      <td>254.000000</td>\n",
       "      <td>253.000000</td>\n",
       "      <td>253.00000</td>\n",
       "      <td>254.000000</td>\n",
       "      <td>62.000000</td>\n",
       "      <td>0.0</td>\n",
       "      <td>0.0</td>\n",
       "      <td>0.0</td>\n",
       "      <td>0.0</td>\n",
       "    </tr>\n",
       "  </tbody>\n",
       "</table>\n",
       "<p>8 rows × 785 columns</p>\n",
       "</div>"
      ],
      "text/plain": [
       "              label   pixel0   pixel1   pixel2   pixel3   pixel4   pixel5  \\\n",
       "count  42000.000000  42000.0  42000.0  42000.0  42000.0  42000.0  42000.0   \n",
       "mean       4.456643      0.0      0.0      0.0      0.0      0.0      0.0   \n",
       "std        2.887730      0.0      0.0      0.0      0.0      0.0      0.0   \n",
       "min        0.000000      0.0      0.0      0.0      0.0      0.0      0.0   \n",
       "25%        2.000000      0.0      0.0      0.0      0.0      0.0      0.0   \n",
       "50%        4.000000      0.0      0.0      0.0      0.0      0.0      0.0   \n",
       "75%        7.000000      0.0      0.0      0.0      0.0      0.0      0.0   \n",
       "max        9.000000      0.0      0.0      0.0      0.0      0.0      0.0   \n",
       "\n",
       "        pixel6   pixel7   pixel8  ...      pixel774      pixel775  \\\n",
       "count  42000.0  42000.0  42000.0  ...  42000.000000  42000.000000   \n",
       "mean       0.0      0.0      0.0  ...      0.219286      0.117095   \n",
       "std        0.0      0.0      0.0  ...      6.312890      4.633819   \n",
       "min        0.0      0.0      0.0  ...      0.000000      0.000000   \n",
       "25%        0.0      0.0      0.0  ...      0.000000      0.000000   \n",
       "50%        0.0      0.0      0.0  ...      0.000000      0.000000   \n",
       "75%        0.0      0.0      0.0  ...      0.000000      0.000000   \n",
       "max        0.0      0.0      0.0  ...    254.000000    254.000000   \n",
       "\n",
       "           pixel776     pixel777      pixel778      pixel779  pixel780  \\\n",
       "count  42000.000000  42000.00000  42000.000000  42000.000000   42000.0   \n",
       "mean       0.059024      0.02019      0.017238      0.002857       0.0   \n",
       "std        3.274488      1.75987      1.894498      0.414264       0.0   \n",
       "min        0.000000      0.00000      0.000000      0.000000       0.0   \n",
       "25%        0.000000      0.00000      0.000000      0.000000       0.0   \n",
       "50%        0.000000      0.00000      0.000000      0.000000       0.0   \n",
       "75%        0.000000      0.00000      0.000000      0.000000       0.0   \n",
       "max      253.000000    253.00000    254.000000     62.000000       0.0   \n",
       "\n",
       "       pixel781  pixel782  pixel783  \n",
       "count   42000.0   42000.0   42000.0  \n",
       "mean        0.0       0.0       0.0  \n",
       "std         0.0       0.0       0.0  \n",
       "min         0.0       0.0       0.0  \n",
       "25%         0.0       0.0       0.0  \n",
       "50%         0.0       0.0       0.0  \n",
       "75%         0.0       0.0       0.0  \n",
       "max         0.0       0.0       0.0  \n",
       "\n",
       "[8 rows x 785 columns]"
      ]
     },
     "execution_count": 7,
     "metadata": {},
     "output_type": "execute_result"
    }
   ],
   "source": [
    "# Look at the descriptive statistics of the data.\n",
    "print('\\nDescriptive statistics of the DataFrame:')\n",
    "train_import.describe()"
   ]
  },
  {
   "cell_type": "markdown",
   "metadata": {},
   "source": [
    "#### <font color='blue'>Table 2: Descriptive Statistics of Train Data</font>"
   ]
  },
  {
   "cell_type": "markdown",
   "metadata": {},
   "source": [
    "Due to the number of features, Table 2 is hard to review manually.  What we can say from the snapshot shown above is that for the label feature the mean is about 4.5.  This is expected as the numbers range from 0 to 9 (confirmed by the min and max in Table 2), and this suggests that there is an even distribution of target variables.  To confirm the distribution of label values, below is a count of each value category.  This distribution is pretty similar with 5 having the minimum number of target variables and 1 having the largest number of variables."
   ]
  },
  {
   "cell_type": "code",
   "execution_count": 8,
   "metadata": {},
   "outputs": [
    {
     "name": "stdout",
     "output_type": "stream",
     "text": [
      "0    4132\n",
      "1    4684\n",
      "2    4177\n",
      "3    4351\n",
      "4    4072\n",
      "5    3795\n",
      "6    4137\n",
      "7    4401\n",
      "8    4063\n",
      "9    4188\n",
      "Name: label, dtype: int64\n",
      "\n",
      "Max:  1    4684\n",
      "Name: label, dtype: int64\n",
      "\n",
      "Min:  5    3795\n",
      "Name: label, dtype: int64\n"
     ]
    }
   ],
   "source": [
    "# Look at the distribution of digits in the train data.\n",
    "num_count = train_import['label'].value_counts().sort_index()\n",
    "print(num_count)\n",
    "print('\\nMax: ', num_count.nlargest(1))\n",
    "print('\\nMin: ', num_count.nsmallest(1))"
   ]
  },
  {
   "cell_type": "markdown",
   "metadata": {},
   "source": [
    "## Create a Test and Train Set"
   ]
  },
  {
   "cell_type": "code",
   "execution_count": 9,
   "metadata": {},
   "outputs": [],
   "source": [
    "# Train data, both X and y are provided.\n",
    "X_train = train_import.drop(columns=['label']) # Drop label feature from dataset\n",
    "y_train = train_import['label']\n",
    "\n",
    "# Test data, note that no y_test exists because it is unknown.\n",
    "X_test = test_import"
   ]
  },
  {
   "cell_type": "code",
   "execution_count": 10,
   "metadata": {},
   "outputs": [
    {
     "name": "stdout",
     "output_type": "stream",
     "text": [
      "(42000, 784)\n",
      "(42000,)\n",
      "(28000, 784)\n"
     ]
    }
   ],
   "source": [
    "# Review the shape of the data\n",
    "print(X_train.shape)\n",
    "print(y_train.shape)\n",
    "print(X_test.shape)"
   ]
  },
  {
   "cell_type": "markdown",
   "metadata": {},
   "source": [
    "## Look at Digit Examples"
   ]
  },
  {
   "cell_type": "markdown",
   "metadata": {},
   "source": [
    "Let's plot some example images.  Functions were defined so that we can look at these images again in the future."
   ]
  },
  {
   "cell_type": "code",
   "execution_count": 11,
   "metadata": {},
   "outputs": [],
   "source": [
    "# Plot a single digit specified by specific .iloc\n",
    "def plot_digit(data):\n",
    "    image = data.values.reshape(28, 28)\n",
    "    plt.imshow(image, cmap = mpl.cm.binary,\n",
    "               interpolation=\"nearest\")\n",
    "    plt.axis(\"off\")"
   ]
  },
  {
   "cell_type": "code",
   "execution_count": 12,
   "metadata": {},
   "outputs": [],
   "source": [
    "# Plot first example of 0 through 9\n",
    "def plot_digit_w_label(data, digit):\n",
    "    print('\\nLabeled value', digit)\n",
    "    idx_loc = data[data['label']==digit].index[0]\n",
    "    coords = data.iloc[idx_loc]\n",
    "    some_digit = coords[1:]\n",
    "    some_digit_image = some_digit.values.reshape(28, 28)\n",
    "    plt.imshow(some_digit_image, cmap = mpl.cm.binary,\n",
    "               interpolation=\"nearest\")\n",
    "    plt.axis(\"off\")\n",
    "\n",
    "    plt.show()"
   ]
  },
  {
   "cell_type": "code",
   "execution_count": 13,
   "metadata": {},
   "outputs": [],
   "source": [
    "# Plot several digits\n",
    "def plot_digits(instances, images_per_row=10, **options):\n",
    "    size = 28\n",
    "    images_per_row = min(len(instances), images_per_row)\n",
    "    images = [instance.reshape(size,size) for instance in instances]\n",
    "    n_rows = (len(instances) - 1) // images_per_row + 1\n",
    "    row_images = []\n",
    "    n_empty = n_rows * images_per_row - len(instances)\n",
    "    images.append(np.zeros((size, size * n_empty)))\n",
    "    for row in range(n_rows):\n",
    "        rimages = images[row * images_per_row : (row + 1) * images_per_row]\n",
    "        row_images.append(np.concatenate(rimages, axis=1))\n",
    "    image = np.concatenate(row_images, axis=0)\n",
    "    plt.imshow(image, cmap = mpl.cm.binary, **options)\n",
    "    plt.axis(\"off\")"
   ]
  },
  {
   "cell_type": "code",
   "execution_count": 14,
   "metadata": {},
   "outputs": [
    {
     "data": {
      "image/png": "[encoded data removed]",
      "text/plain": [
       "<Figure size 432x288 with 1 Axes>"
      ]
     },
     "metadata": {
      "needs_background": "light"
     },
     "output_type": "display_data"
    }
   ],
   "source": [
    "# Plot a single random digit\n",
    "plot_digit(X_train.loc[3600])"
   ]
  },
  {
   "cell_type": "markdown",
   "metadata": {},
   "source": [
    "#### <font color='blue'>Figure 1: An example of a single digit from the training dataset</font>"
   ]
  },
  {
   "cell_type": "code",
   "execution_count": 15,
   "metadata": {},
   "outputs": [
    {
     "name": "stdout",
     "output_type": "stream",
     "text": [
      "\n",
      "Labeled value 0\n"
     ]
    },
    {
     "data": {
      "image/png": "[encoded data removed]",
      "text/plain": [
       "<Figure size 432x288 with 1 Axes>"
      ]
     },
     "metadata": {
      "needs_background": "light"
     },
     "output_type": "display_data"
    },
    {
     "name": "stdout",
     "output_type": "stream",
     "text": [
      "\n",
      "Labeled value 1\n"
     ]
    },
    {
     "data": {
      "image/png": "[encoded data removed]",
      "text/plain": [
       "<Figure size 432x288 with 1 Axes>"
      ]
     },
     "metadata": {
      "needs_background": "light"
     },
     "output_type": "display_data"
    },
    {
     "name": "stdout",
     "output_type": "stream",
     "text": [
      "\n",
      "Labeled value 2\n"
     ]
    },
    {
     "data": {
      "image/png": "[encoded data removed]",
      "text/plain": [
       "<Figure size 432x288 with 1 Axes>"
      ]
     },
     "metadata": {
      "needs_background": "light"
     },
     "output_type": "display_data"
    },
    {
     "name": "stdout",
     "output_type": "stream",
     "text": [
      "\n",
      "Labeled value 3\n"
     ]
    },
    {
     "data": {
      "image/png": "[encoded data removed]",
      "text/plain": [
       "<Figure size 432x288 with 1 Axes>"
      ]
     },
     "metadata": {
      "needs_background": "light"
     },
     "output_type": "display_data"
    },
    {
     "name": "stdout",
     "output_type": "stream",
     "text": [
      "\n",
      "Labeled value 4\n"
     ]
    },
    {
     "data": {
      "image/png": "[encoded data removed]",
      "text/plain": [
       "<Figure size 432x288 with 1 Axes>"
      ]
     },
     "metadata": {
      "needs_background": "light"
     },
     "output_type": "display_data"
    },
    {
     "name": "stdout",
     "output_type": "stream",
     "text": [
      "\n",
      "Labeled value 5\n"
     ]
    },
    {
     "data": {
      "image/png": "[encoded data removed]",
      "text/plain": [
       "<Figure size 432x288 with 1 Axes>"
      ]
     },
     "metadata": {
      "needs_background": "light"
     },
     "output_type": "display_data"
    },
    {
     "name": "stdout",
     "output_type": "stream",
     "text": [
      "\n",
      "Labeled value 6\n"
     ]
    },
    {
     "data": {
      "image/png": "[encoded data removed]",
      "text/plain": [
       "<Figure size 432x288 with 1 Axes>"
      ]
     },
     "metadata": {
      "needs_background": "light"
     },
     "output_type": "display_data"
    },
    {
     "name": "stdout",
     "output_type": "stream",
     "text": [
      "\n",
      "Labeled value 7\n"
     ]
    },
    {
     "data": {
      "image/png": "[encoded data removed]",
      "text/plain": [
       "<Figure size 432x288 with 1 Axes>"
      ]
     },
     "metadata": {
      "needs_background": "light"
     },
     "output_type": "display_data"
    },
    {
     "name": "stdout",
     "output_type": "stream",
     "text": [
      "\n",
      "Labeled value 8\n"
     ]
    },
    {
     "data": {
      "image/png": "[encoded data removed]",
      "text/plain": [
       "<Figure size 432x288 with 1 Axes>"
      ]
     },
     "metadata": {
      "needs_background": "light"
     },
     "output_type": "display_data"
    },
    {
     "name": "stdout",
     "output_type": "stream",
     "text": [
      "\n",
      "Labeled value 9\n"
     ]
    },
    {
     "data": {
      "image/png": "[encoded data removed]",
      "text/plain": [
       "<Figure size 432x288 with 1 Axes>"
      ]
     },
     "metadata": {
      "needs_background": "light"
     },
     "output_type": "display_data"
    }
   ],
   "source": [
    "# Plot an example of each digit\n",
    "for num in range(0,10):\n",
    "    plot_digit_w_label(train_import,num)"
   ]
  },
  {
   "cell_type": "markdown",
   "metadata": {},
   "source": [
    "#### <font color='blue'>Figure 2: Examples of each digit</font>"
   ]
  },
  {
   "cell_type": "code",
   "execution_count": 16,
   "metadata": {},
   "outputs": [
    {
     "data": {
      "image/png": "[encoded data removed]",
      "text/plain": [
       "<Figure size 648x648 with 1 Axes>"
      ]
     },
     "metadata": {
      "needs_background": "light"
     },
     "output_type": "display_data"
    }
   ],
   "source": [
    "# Randomly plot a selection of digits.\n",
    "plt.figure(figsize=(9,9))\n",
    "example_images = np.r_[X_train[:12000:600], X_train[13000:30600:600], X_train[30600:60000:590]]\n",
    "plot_digits(example_images, images_per_row=10)\n",
    "#save_fig(\"more_digits_plot\")\n",
    "plt.show()"
   ]
  },
  {
   "cell_type": "markdown",
   "metadata": {},
   "source": [
    "#### <font color='blue'>Figure 3: More examples of the digit images contained in the training dataset</font>"
   ]
  },
  {
   "cell_type": "markdown",
   "metadata": {},
   "source": [
    "## Transformations"
   ]
  },
  {
   "cell_type": "markdown",
   "metadata": {},
   "source": [
    "No transformations were completed for this exercise."
   ]
  },
  {
   "cell_type": "markdown",
   "metadata": {},
   "source": [
    "## Scaling and Normalization"
   ]
  },
  {
   "cell_type": "markdown",
   "metadata": {},
   "source": [
    "Machine Learning algorithms typically require input data to be normalized to help create efficiencies in the time it takes to train the data.  This is because when using Gradient Descent, the algorithm is able to train the data a lot faster with making incrimental steps between 0 and 1 than it can on a larger scale.  This also puts all input vectors on a common scale for use in the algorithm.\n",
    "\n",
    "While there are several ways to do this, I have selected using the MinMaxScaler() from Scikit-Learn.  Note that I have fit the scaler to the training dataset and then transformed the training and test dataset separately.  This is to prevent the model from infering information about the test data prior to actually seeing the data.\n",
    "\n",
    "It is interesting to note that while it perfectly scales the training data as expected, the test data has at least one datapoint that falls very far outside of the 0-1 fitted range with a value of 226.  I am assuming this is due to one (or potentially a few) dark pixel(s) that exists in probably one test dataset image in a position where the training dataset only has very light pixels.  I would guess it is most likely an outlier in the test dataset.\n",
    "\n",
    "Other methods to use are the StandardScaler() or simply dividing each pixel by the max value of 255.  I chose not to use the StandardScaler() because it resulted in some large values in both the training and test datasets and was not providing very good results on an initial run of a deep neural network.  The approach of dividing the pixels by 255 was a simple and easy approach, but I chose to use the MinMaxScaler instead."
   ]
  },
  {
   "cell_type": "code",
   "execution_count": 17,
   "metadata": {},
   "outputs": [],
   "source": [
    "# Create the scaler\n",
    "scaler = MinMaxScaler()"
   ]
  },
  {
   "cell_type": "code",
   "execution_count": 18,
   "metadata": {},
   "outputs": [
    {
     "name": "stderr",
     "output_type": "stream",
     "text": [
      "C:\\Users\\DELL\\Anaconda3\\lib\\site-packages\\sklearn\\preprocessing\\data.py:323: DataConversionWarning: Data with input dtype int64 were all converted to float64 by MinMaxScaler.\n",
      "  return self.partial_fit(X, y)\n"
     ]
    },
    {
     "data": {
      "text/plain": [
       "MinMaxScaler(copy=True, feature_range=(0, 1))"
      ]
     },
     "execution_count": 18,
     "metadata": {},
     "output_type": "execute_result"
    }
   ],
   "source": [
    "# Fit the scaler to the training data\n",
    "scaler.fit(X_train)"
   ]
  },
  {
   "cell_type": "code",
   "execution_count": 19,
   "metadata": {},
   "outputs": [
    {
     "name": "stdout",
     "output_type": "stream",
     "text": [
      "Transformed shape: (42000, 784)\n",
      "Dataframe minimum of per-feature values before scaling:\n",
      " 0\n",
      "Dataframe maximum of per-feature values before scaling:\n",
      " 255\n",
      "Dataframe minimum of per-feature values after scaling:\n",
      " 0.0\n",
      "Dataframe maximum of per-feature values after scaling:\n",
      " 1.0\n"
     ]
    }
   ],
   "source": [
    "# Transform data\n",
    "X_train_scaled = scaler.transform(X_train)\n",
    "# Print dataset properties before and after scaling\n",
    "print(\"Transformed shape: {}\".format(X_train_scaled.shape))\n",
    "print(\"Dataframe minimum of per-feature values before scaling:\\n {}\".format((X_train.min()).min()))\n",
    "print(\"Dataframe maximum of per-feature values before scaling:\\n {}\".format((X_train.max()).max()))\n",
    "print(\"Dataframe minimum of per-feature values after scaling:\\n {}\".format((X_train_scaled.min()).min()))\n",
    "print(\"Dataframe maximum of per-feature values after scaling:\\n {}\".format((X_train_scaled.max()).max()))\n",
    "#print(\"per-feature minimum before scaling:\\n {}\".format(X_train.min(axis=0)))\n",
    "#print(\"per-feature maximum before scaling:\\n {}\".format(X_train.max(axis=0)))\n",
    "#print(\"per-feature minimum after scaling:\\n {}\".format(X_train_scaled.min(axis=0)))\n",
    "#print(\"per-feature maximum after scaling:\\n {}\".format(X_train_scaled.max(axis=0)))"
   ]
  },
  {
   "cell_type": "code",
   "execution_count": 20,
   "metadata": {},
   "outputs": [
    {
     "data": {
      "text/plain": [
       "<bound method BaseEstimator.get_params of MinMaxScaler(copy=True, feature_range=(0, 1))>"
      ]
     },
     "execution_count": 20,
     "metadata": {},
     "output_type": "execute_result"
    }
   ],
   "source": [
    "# Check the parameters of the scaler\n",
    "scaler.get_params"
   ]
  },
  {
   "cell_type": "code",
   "execution_count": 21,
   "metadata": {},
   "outputs": [
    {
     "name": "stdout",
     "output_type": "stream",
     "text": [
      "Transformed shape: (28000, 784)\n",
      "Dataframe minimum of per-feature values after scaling:\n",
      " 0\n",
      "Dataframe maximum of per-feature values after scaling:\n",
      " 255\n",
      "Dataframe minimum of per-feature values after scaling:\n",
      " 0.0\n",
      "Dataframe maximum of per-feature values after scaling:\n",
      " 226.0\n"
     ]
    }
   ],
   "source": [
    "# Transform test data\n",
    "X_test_scaled = scaler.transform(X_test)\n",
    "print(\"Transformed shape: {}\".format(X_test_scaled.shape))\n",
    "# Print test data properties before and after scaling\n",
    "print(\"Dataframe minimum of per-feature values after scaling:\\n {}\".format((X_test.min()).min()))\n",
    "print(\"Dataframe maximum of per-feature values after scaling:\\n {}\".format((X_test.max()).max()))\n",
    "print(\"Dataframe minimum of per-feature values after scaling:\\n {}\".format((X_test_scaled.min()).min()))\n",
    "print(\"Dataframe maximum of per-feature values after scaling:\\n {}\".format(X_test_scaled.max()))\n",
    "#print(\"per-feature minimum after scaling:\\n{}\".format(X_test_scaled.min(axis=0)))\n",
    "#print(\"per-feature maximum after scaling:\\n{}\".format(X_test_scaled.max(axis=0)))"
   ]
  },
  {
   "cell_type": "markdown",
   "metadata": {},
   "source": [
    "## Create Train and Validation Data Sets"
   ]
  },
  {
   "cell_type": "markdown",
   "metadata": {},
   "source": [
    "To create use cross validation to train a model, a validation dataset must be created from the training set.  A validation set is a sub dataset made up of observations from the training set, including the features and the target response variable.  This validation set is not used during the training of the model, but is used to validate the results of the model after training by predicting the target response of the unseen validation data and then comparing those predictions to the actual validation target response.  This allows the researcher to evalute the model's ability to generalize to new observations.\n",
    "\n",
    "To optimize the split of the existing training data set into a new training and validaiton set, a several split sizes will be looped through a simple neural network.  This split size yielding the best results on this simple network will be assumed to represent the optimal split for future neural networks."
   ]
  },
  {
   "cell_type": "markdown",
   "metadata": {},
   "source": [
    "### Evaluate Optimal Train/Test Split"
   ]
  },
  {
   "cell_type": "code",
   "execution_count": 22,
   "metadata": {},
   "outputs": [],
   "source": [
    "# Define test sizes\n",
    "test_size = [0.05,0.1,0.15,0.2,0.25,0.3] # validation set sizes to try, where the size is a ratio\n",
    "                                         # of the training set size."
   ]
  },
  {
   "cell_type": "code",
   "execution_count": 23,
   "metadata": {},
   "outputs": [],
   "source": [
    "# Create lists to record the results of each iteration\n",
    "index_for_method = 0 \n",
    "training_performance_results = []\n",
    "validation_performance_results = []\n",
    "processing_time = []"
   ]
  },
  {
   "cell_type": "code",
   "execution_count": 24,
   "metadata": {
    "scrolled": true
   },
   "outputs": [
    {
     "name": "stdout",
     "output_type": "stream",
     "text": [
      "\n",
      "------------------------------------\n",
      "\n",
      "Validation Dataset Size Ratio to Training Set: 0.05\n",
      "INFO:tensorflow:Using default config.\n",
      "WARNING:tensorflow:Using temporary folder as model directory: C:\\Users\\DELL\\AppData\\Local\\Temp\\tmpl5cmor3l\n",
      "INFO:tensorflow:Using config: {'_model_dir': 'C:\\\\Users\\\\DELL\\\\AppData\\\\Local\\\\Temp\\\\tmpl5cmor3l', '_tf_random_seed': None, '_save_summary_steps': 100, '_save_checkpoints_steps': None, '_save_checkpoints_secs': 600, '_session_config': allow_soft_placement: true\n",
      "graph_options {\n",
      "  rewrite_options {\n",
      "    meta_optimizer_iterations: ONE\n",
      "  }\n",
      "}\n",
      ", '_keep_checkpoint_max': 5, '_keep_checkpoint_every_n_hours': 10000, '_log_step_count_steps': 100, '_train_distribute': None, '_device_fn': None, '_protocol': None, '_eval_distribute': None, '_experimental_distribute': None, '_service': None, '_cluster_spec': <tensorflow.python.training.server_lib.ClusterSpec object at 0x000001EE2FA9F470>, '_task_type': 'worker', '_task_id': 0, '_global_id_in_cluster': 0, '_master': '', '_evaluation_master': '', '_is_chief': True, '_num_ps_replicas': 0, '_num_worker_replicas': 1}\n",
      "WARNING:tensorflow:From C:\\Users\\DELL\\Anaconda3\\lib\\site-packages\\tensorflow\\python\\estimator\\inputs\\queues\\feeding_queue_runner.py:62: QueueRunner.__init__ (from tensorflow.python.training.queue_runner_impl) is deprecated and will be removed in a future version.\n",
      "Instructions for updating:\n",
      "To construct input pipelines, use the `tf.data` module.\n",
      "WARNING:tensorflow:From C:\\Users\\DELL\\Anaconda3\\lib\\site-packages\\tensorflow\\python\\estimator\\inputs\\queues\\feeding_functions.py:500: add_queue_runner (from tensorflow.python.training.queue_runner_impl) is deprecated and will be removed in a future version.\n",
      "Instructions for updating:\n",
      "To construct input pipelines, use the `tf.data` module.\n",
      "WARNING:tensorflow:From C:\\Users\\DELL\\Anaconda3\\lib\\site-packages\\tensorflow\\python\\training\\monitored_session.py:804: start_queue_runners (from tensorflow.python.training.queue_runner_impl) is deprecated and will be removed in a future version.\n",
      "Instructions for updating:\n",
      "To construct input pipelines, use the `tf.data` module.\n",
      "\n",
      "Processing time (seconds): 71.529354\n",
      "\n",
      "Training set accuracy: 1.000000\n",
      "\n",
      "Validation set accuracy: 0.970476\n",
      "\n",
      "------------------------------------\n",
      "\n",
      "Validation Dataset Size Ratio to Training Set: 0.1\n",
      "WARNING:tensorflow:Using temporary folder as model directory: C:\\Users\\DELL\\AppData\\Local\\Temp\\tmpsgibv4jt\n",
      "\n",
      "Processing time (seconds): 64.895221\n",
      "\n",
      "Training set accuracy: 1.000000\n",
      "\n",
      "Validation set accuracy: 0.973571\n",
      "\n",
      "------------------------------------\n",
      "\n",
      "Validation Dataset Size Ratio to Training Set: 0.15\n",
      "WARNING:tensorflow:Using temporary folder as model directory: C:\\Users\\DELL\\AppData\\Local\\Temp\\tmpjgkh0irm\n",
      "\n",
      "Processing time (seconds): 61.044106\n",
      "\n",
      "Training set accuracy: 1.000000\n",
      "\n",
      "Validation set accuracy: 0.973810\n",
      "\n",
      "------------------------------------\n",
      "\n",
      "Validation Dataset Size Ratio to Training Set: 0.2\n",
      "WARNING:tensorflow:Using temporary folder as model directory: C:\\Users\\DELL\\AppData\\Local\\Temp\\tmp7st37luq\n",
      "\n",
      "Processing time (seconds): 57.973283\n",
      "\n",
      "Training set accuracy: 1.000000\n",
      "\n",
      "Validation set accuracy: 0.977143\n",
      "\n",
      "------------------------------------\n",
      "\n",
      "Validation Dataset Size Ratio to Training Set: 0.25\n",
      "WARNING:tensorflow:Using temporary folder as model directory: C:\\Users\\DELL\\AppData\\Local\\Temp\\tmpjfrc_0xt\n",
      "\n",
      "Processing time (seconds): 54.685335\n",
      "\n",
      "Training set accuracy: 1.000000\n",
      "\n",
      "Validation set accuracy: 0.974667\n",
      "\n",
      "------------------------------------\n",
      "\n",
      "Validation Dataset Size Ratio to Training Set: 0.3\n",
      "WARNING:tensorflow:Using temporary folder as model directory: C:\\Users\\DELL\\AppData\\Local\\Temp\\tmpdqk9z0q4\n",
      "\n",
      "Processing time (seconds): 51.519984\n",
      "\n",
      "Training set accuracy: 1.000000\n",
      "\n",
      "Validation set accuracy: 0.975397\n"
     ]
    }
   ],
   "source": [
    "# Create a loop to go through and evaluate a basic model based on several different validation set sizes.\n",
    "for size in test_size:\n",
    "    print('\\n------------------------------------')\n",
    "    print('\\nValidation Dataset Size Ratio to Training Set:', size)\n",
    "    \n",
    "    start_time = time.clock() # start timer to evaluate how long it takes to train this base model\n",
    "    \n",
    "    X = X_train_scaled # define the X variables\n",
    "    y = y_train # define the response variable\n",
    "\n",
    "    \n",
    "    X_train_eval, X_valid_eval, y_train_eval, y_valid_eval = train_test_split(X, y, test_size=size, \\\n",
    "                                                                              random_state=RANDOM_SEED) # split data\n",
    "                                                                                                        # and return arrays\n",
    "    X_train_eval = X_train_eval.astype(np.float32).reshape(-1, 28*28) # turn to float and resize \n",
    "    X_valid_eval = X_valid_eval.astype(np.float32).reshape(-1, 28*28) # turn to float and resize \n",
    "    y_train_eval = y_train_eval.astype(np.int32).values # turn to int\n",
    "    y_valid_eval = y_valid_eval.astype(np.int32).values # turn to int\n",
    "    \n",
    "    tf.set_random_seed(RANDOM_SEED)\n",
    "    \n",
    "    # Create the model\n",
    "    feature_cols = [tf.feature_column.numeric_column(\"X\", shape=[28 * 28])]\n",
    "    dnn_clf = tf.estimator.DNNClassifier(hidden_units=[300,100], n_classes=10,\n",
    "                                         feature_columns=feature_cols) # create DNN classifier\n",
    "    \n",
    "    tf.logging.set_verbosity(tf.logging.WARN) # surpress progress report, only show warnings.  This was added\n",
    "                                            # to increase usability when uploaded to GitHub.\n",
    "\n",
    "    # Train the model\n",
    "    input_fn = tf.estimator.inputs.numpy_input_fn(\n",
    "        x={\"X\": X_train_eval}, y=y_train_eval, num_epochs=40, batch_size=50, shuffle=True)\n",
    "    dnn_clf.train(input_fn=input_fn)\n",
    "    \n",
    "    end_time = time.clock() # end timer\n",
    "    runtime = end_time - start_time  # seconds of wall-clock time \n",
    "    print(\"\\nProcessing time (seconds): %f\" % runtime) # print process time to train model      \n",
    "    processing_time.append(runtime) # append process time results to list for comparison table\n",
    " \n",
    "    # Use training and validation data to check model results\n",
    "    train_input_fn = tf.estimator.inputs.numpy_input_fn(\n",
    "        x={\"X\": X_train_eval}, y=y_train_eval, shuffle=False)\n",
    "    train_eval_results = dnn_clf.evaluate(input_fn=train_input_fn) # training results\n",
    "    \n",
    "    valid_input_fn = tf.estimator.inputs.numpy_input_fn(\n",
    "        x={\"X\": X_valid_eval}, y=y_valid_eval, shuffle=False)\n",
    "    valid_eval_results = dnn_clf.evaluate(input_fn=valid_input_fn) # validation results\n",
    "      \n",
    "    \n",
    "    # mean accuracy of prediction in training set\n",
    "    training_performance = train_eval_results['accuracy']\n",
    "    print(\"\\nTraining set accuracy: %f\" % training_performance)\n",
    "    training_performance_results.append(training_performance) # append results to list for comparison table\n",
    "\n",
    "    # mean accuracy of prediction in test set\n",
    "    validation_performance = valid_eval_results['accuracy']\n",
    "    print(\"\\nValidation set accuracy: %f\" % validation_performance)\n",
    "    validation_performance_results.append(validation_performance) # append results to list for comparison table\n",
    "                \n",
    "    index_for_method += 1"
   ]
  },
  {
   "cell_type": "code",
   "execution_count": 25,
   "metadata": {
    "scrolled": true
   },
   "outputs": [
    {
     "name": "stdout",
     "output_type": "stream",
     "text": [
      "\n",
      "Validation Dataset Size Ratio to Training Dataset: Tensorflow Deep Neural Networks\n",
      "\n"
     ]
    },
    {
     "data": {
      "text/html": [
       "<div>\n",
       "<style scoped>\n",
       "    .dataframe tbody tr th:only-of-type {\n",
       "        vertical-align: middle;\n",
       "    }\n",
       "\n",
       "    .dataframe tbody tr th {\n",
       "        vertical-align: top;\n",
       "    }\n",
       "\n",
       "    .dataframe thead th {\n",
       "        text-align: right;\n",
       "    }\n",
       "</style>\n",
       "<table border=\"1\" class=\"dataframe\">\n",
       "  <thead>\n",
       "    <tr style=\"text-align: right;\">\n",
       "      <th></th>\n",
       "      <th>Validation Dataset Ratio</th>\n",
       "      <th>Processing Time</th>\n",
       "      <th>Training Set Accuracy</th>\n",
       "      <th>Validation Set Accuracy</th>\n",
       "    </tr>\n",
       "  </thead>\n",
       "  <tbody>\n",
       "    <tr>\n",
       "      <th>0</th>\n",
       "      <td>0.05</td>\n",
       "      <td>71.529354</td>\n",
       "      <td>1.0</td>\n",
       "      <td>0.970476</td>\n",
       "    </tr>\n",
       "    <tr>\n",
       "      <th>1</th>\n",
       "      <td>0.10</td>\n",
       "      <td>64.895221</td>\n",
       "      <td>1.0</td>\n",
       "      <td>0.973571</td>\n",
       "    </tr>\n",
       "    <tr>\n",
       "      <th>2</th>\n",
       "      <td>0.15</td>\n",
       "      <td>61.044106</td>\n",
       "      <td>1.0</td>\n",
       "      <td>0.973810</td>\n",
       "    </tr>\n",
       "    <tr>\n",
       "      <th>3</th>\n",
       "      <td>0.20</td>\n",
       "      <td>57.973283</td>\n",
       "      <td>1.0</td>\n",
       "      <td>0.977143</td>\n",
       "    </tr>\n",
       "    <tr>\n",
       "      <th>4</th>\n",
       "      <td>0.25</td>\n",
       "      <td>54.685335</td>\n",
       "      <td>1.0</td>\n",
       "      <td>0.974667</td>\n",
       "    </tr>\n",
       "    <tr>\n",
       "      <th>5</th>\n",
       "      <td>0.30</td>\n",
       "      <td>51.519984</td>\n",
       "      <td>1.0</td>\n",
       "      <td>0.975397</td>\n",
       "    </tr>\n",
       "  </tbody>\n",
       "</table>\n",
       "</div>"
      ],
      "text/plain": [
       "   Validation Dataset Ratio  Processing Time  Training Set Accuracy  \\\n",
       "0                      0.05        71.529354                    1.0   \n",
       "1                      0.10        64.895221                    1.0   \n",
       "2                      0.15        61.044106                    1.0   \n",
       "3                      0.20        57.973283                    1.0   \n",
       "4                      0.25        54.685335                    1.0   \n",
       "5                      0.30        51.519984                    1.0   \n",
       "\n",
       "   Validation Set Accuracy  \n",
       "0                 0.970476  \n",
       "1                 0.973571  \n",
       "2                 0.973810  \n",
       "3                 0.977143  \n",
       "4                 0.974667  \n",
       "5                 0.975397  "
      ]
     },
     "execution_count": 25,
     "metadata": {},
     "output_type": "execute_result"
    }
   ],
   "source": [
    "# Create a table to display results of experiement\n",
    "results = pd.DataFrame(OrderedDict([('Validation Dataset Ratio', test_size),\n",
    "                        ('Processing Time', processing_time),\n",
    "                        ('Training Set Accuracy', training_performance_results),\n",
    "                        ('Validation Set Accuracy', validation_performance_results)]))\n",
    "\n",
    "print('\\nValidation Dataset Size Ratio to Training Dataset: Tensorflow Deep Neural Networks\\n')\n",
    "results "
   ]
  },
  {
   "cell_type": "markdown",
   "metadata": {},
   "source": [
    "#### <font color='blue'>Table 3: Validation Dataset Size Ratio to Training Dataset: Tensorflow Deep Neural Networks</font>"
   ]
  },
  {
   "cell_type": "markdown",
   "metadata": {},
   "source": [
    "According to the results in Table 3 of this experiment, we can see that the validation dataset size of 20% of the entire training dataset may be optimal.  This may be trivial, as there does not seem to be a significant difference in the validation dataset size."
   ]
  },
  {
   "cell_type": "markdown",
   "metadata": {},
   "source": [
    "### Create Training and Validation Test Set for Modeling Based on Optimial Size"
   ]
  },
  {
   "cell_type": "markdown",
   "metadata": {},
   "source": [
    "Using the results from the previous experiement, an optimal training/validation dataset split can now be created.  Below, a training set and validation set are created to use in the development of models. Note that reshaping the data into an array with float data types is necessary for feeding it into Tensorflow.  Below I take the normalized data and break it into a test and validation set for use in training a neural network."
   ]
  },
  {
   "cell_type": "code",
   "execution_count": 26,
   "metadata": {},
   "outputs": [],
   "source": [
    "X = X_train_scaled # define the training X variables\n",
    "y = y_train # define the training response variable\n",
    "\n",
    "opt_test_size = 0.2 # optimal test size from previous experiment\n",
    "X_train, X_valid, y_train, y_valid = train_test_split(X, y, test_size=opt_test_size, random_state=RANDOM_SEED) # split data\n",
    "                                                                                                     # and return arrays\n",
    "X_train = X_train.astype(np.float32).reshape(-1, 28*28) # turn to float and resize \n",
    "X_valid = X_valid.astype(np.float32).reshape(-1, 28*28) # turn to float and resize \n",
    "y_train = y_train.astype(np.int32).values # turn to int \n",
    "y_valid = y_valid.astype(np.int32).values # turn to int \n",
    "\n",
    "X_test = X_test_scaled # define the test X variable (response variable unknown)"
   ]
  },
  {
   "cell_type": "code",
   "execution_count": 27,
   "metadata": {},
   "outputs": [
    {
     "name": "stdout",
     "output_type": "stream",
     "text": [
      "(33600, 784)\n",
      "(33600,)\n",
      "(8400, 784)\n",
      "(8400,)\n",
      "(28000, 784)\n"
     ]
    }
   ],
   "source": [
    "# Check the shape of all arrays\n",
    "print(X_train.shape)\n",
    "print(y_train.shape)\n",
    "print(X_valid.shape)\n",
    "print(y_valid.shape)\n",
    "print(X_test.shape)"
   ]
  },
  {
   "cell_type": "markdown",
   "metadata": {},
   "source": [
    "Now that good normalized training and validation datasets have been created to use in Tensorflow deep neural networks, it was decided the data should be pickled so that it can be saved for use again at a later point if needed.  This is valuable because all of the previous code can be avoided in future testing."
   ]
  },
  {
   "cell_type": "code",
   "execution_count": 28,
   "metadata": {},
   "outputs": [
    {
     "name": "stdout",
     "output_type": "stream",
     "text": [
      "\n",
      " Run complete. data objects sent to binary file  mnist_data.pickle\n"
     ]
    }
   ],
   "source": [
    "# Define collection of objects to export as binary file using pickle.\n",
    "data = {\n",
    "    'X_train': X_train,\n",
    "    'y_train': y_train,\n",
    "    'X_valid': X_valid,\n",
    "    'y_valid': y_valid,\n",
    "    'X_test': X_test}\n",
    "\n",
    "# Write to binary file\n",
    "with open('mnist_data_GitHub_Version.pickle', 'wb') as f:\n",
    "    # Pickle the 'data' dictionary using the highest protocol available.\n",
    "    pickle.dump(data, f, pickle.HIGHEST_PROTOCOL)\n",
    "\n",
    "print('\\n Run complete. data objects sent to binary file  mnist_data.pickle')"
   ]
  },
  {
   "cell_type": "code",
   "execution_count": 29,
   "metadata": {},
   "outputs": [],
   "source": [
    "# Extract objects from the dictionary object data\n",
    "X_train = data['X_train']\n",
    "y_train = data['y_train'] \n",
    "X_valid = data['X_valid'] \n",
    "y_valid = data['y_valid'] \n",
    "X_test = data['X_test'] "
   ]
  },
  {
   "cell_type": "markdown",
   "metadata": {},
   "source": [
    "## Create Models"
   ]
  },
  {
   "cell_type": "markdown",
   "metadata": {},
   "source": [
    "Tensorflow will be used to develop a deep neural network (DNN) for the MNIST data set.  A neural network is simply a composite function that accepts inputs and calculates one or more outputs.  Where a DNN differs from other machine learning models is that the structure of the composite function is modeled after the human brain.  The basic concept is that the model accepts inputs to the model, and then passes these inputs through a series of interconnected nodes.  Using response variables to test which nodes were activiated with any particular combination of inputs, and then adjusting each node's activiation criteria to better fit the anticipated response is what makes these DNNs so powerful when it comes to learning.\n",
    "\n",
    "Let's break down the structure of DNN a bit more.  A DNN model starts out with a defined data input layer that has an individual input node for each input. This input layer is then fully connected to at least one hidden layer, which is a separate layer of nodes, each of which is connected to every single node in the input layer.  Additionally, each node in this hidden layer is connected to each node in the following layer.  Each additional hidden layer follows this same format so that all nodes in a layer are connected to all nodes in the previous layer and all nodes in the following layer.  Last, an output layer is created to produce a result from the DNN.  As you may guess, this layer had individual nodes for each possible output that are connected to each node in the previous layer.  Figure 4 from Suryansh (2018) shows a graphical represenation of a neural network.  This figure clearly shows the input layer that has 8 separate inputs, 3 hidden layers each having 9 nodes, and the output layer that has 4 possible responses.\n",
    "\n",
    "References: Suryansh S. (2018, April 7). Neural Networks: All YOU Need to Know. Retrieved from https://towardsdatascience.com/nns-aynk-c34efe37f15a"
   ]
  },
  {
   "cell_type": "markdown",
   "metadata": {},
   "source": [
    "![](DNNs_MNIST_GLAWSON_Fig1.png)"
   ]
  },
  {
   "cell_type": "markdown",
   "metadata": {},
   "source": [
    "#### <font color='blue'>Figure 4: Example of a Deep Neural Network</font>"
   ]
  },
  {
   "cell_type": "markdown",
   "metadata": {},
   "source": [
    "Without getting to deep into the mathematics behind DNNs, the general idea is that each hidden layer node has a connection weight that tells a node when to activate.  In training, the network uses these weights to activate specific neuron pathways that result in a specific predicted output.  This predicted output is then compared to a known output, and the model generates a bias on how it \"thinks\" it should update the weights to better represent the actual known outputs.  It then back propogates these bias values, slightly changing the connection weights.  A series of iterations of backpropogation can be complete to let the DNN learn over several groupings of data what connection weights best represent the desired output.\n",
    "\n",
    "While Tensorflow can be used on its own, I have chosen to use the Scikit-Learn API that uses Tensorflow in the background to help streamline the development and training of the models.  While it appears this method is a bit more limited than building the graphs and models manually using Tensorflow, this may not be a bad thing as I am only looking to tweak a few of the many hyperparameters."
   ]
  },
  {
   "cell_type": "markdown",
   "metadata": {},
   "source": [
    "### Model 1 - Tensorflow Neural Network Using Scikit-Learn\n",
    "### Inspect How Layers and Nodes Impact Model"
   ]
  },
  {
   "cell_type": "markdown",
   "metadata": {},
   "source": [
    "The intent of this model is to create a factoral design to compare how different numbers of layers and nodes will impact the model.  The layer, also called a hidden layer, can be visualized as a mathematical way to begin breaking down the input data to look for patterns.  When more layers are added, it can be thought of as progressively combining prevously identified patterns and looking for new, more complex patterns or combinations of patterns.  For example, if the first hidden layer identified edges like straight lines of dark pixels in the images that are fed into the model, the second hidden layer may begin to look at patterns of how these edges come together to make shapes such as circles or curved lines.  Nodes or neurons are the point where a specific pattern is consistantly found, and when found in the future, this neuron will activate.  Activiation of a specific neuron causes a chain reaction of activiations in connected neurons in following layers.  Each time a specific pattern is found during training, the weights associated with the neuron connections is learned and reinforced so that future recognition of the same pattern will activate the same chain of neurons, theoretically resulting in an accurate output prediction.\n",
    "\n",
    "The number of layers in this experiment will include 2, 3, and 5.  These values were selected so allow for the model to increase in it's complexity as more layers are added in.  The number of nodes in each layer ranges from 100 nodes to 600 nodes, which were selected arbitrarily to span across a wide range that stayed between the number of input nodes and the number of output nodes.  The type of node structure in each layer was also tested to determine if a constant number of nodes in every layer (documented as a \"Constant\" layer) would perform better than a design where each layer has a decreasing number of nodes (documented as a \"Funnel\" layer.  "
   ]
  },
  {
   "cell_type": "code",
   "execution_count": 30,
   "metadata": {},
   "outputs": [],
   "source": [
    "# Create names for each iteration of the model\n",
    "names = ['2-Layers-300-Node-Max-per-Layer-Funnel',\n",
    "         '2-Layers-600-Node-Max-per-Layer-Funnel',\n",
    "         '2-Layers-100-Node-Max-per-Layer-Constant',\n",
    "         '2-Layers-300-Node-Max-per-Layer-Constant',\n",
    "         '3-Layers-300-Node-Max-per-Layer-Funnel',\n",
    "         '3-Layers-600-Node-Max-per-Layer-Funnel',\n",
    "         '3-Layers-100-Node-Max-per-Layer-Constant',\n",
    "         '3-Layers-300-Node-Max-per-Layer-Constant',\n",
    "         '5-Layers-300-Node-Max-per-Layer-Funnel',\n",
    "         '5-Layers-600-Node-Max-per-Layer-Funnel',\n",
    "         '5-Layers-100-Node-Max-per-Layer-Constant',\n",
    "         '5-Layers-300-Node-Max-per-Layer-Constant']"
   ]
  },
  {
   "cell_type": "code",
   "execution_count": 31,
   "metadata": {},
   "outputs": [],
   "source": [
    "# Define the layers for each iteration of the model\n",
    "Layers = [2, 2, 2, 2, 3, 3, 3, 3, 5, 5, 5, 5]"
   ]
  },
  {
   "cell_type": "code",
   "execution_count": 32,
   "metadata": {},
   "outputs": [],
   "source": [
    "# Define the max number of nodes for each iteration of the model.  \n",
    "# This is just informational for the comparison table.\n",
    "max_nodes_per_layer = [300, 600, 100, 300, 300, 600, 100, 300, 300, 600, 100, 300]"
   ]
  },
  {
   "cell_type": "code",
   "execution_count": 33,
   "metadata": {},
   "outputs": [],
   "source": [
    "# Define the number of layers and number of nodes per layer for each iteration of the model.\n",
    "layer1 = [300,100]\n",
    "layer2 = [600,300]\n",
    "layer3 = [100,100]\n",
    "layer4 = [300,300]\n",
    "layer5 = [300,200,100]\n",
    "layer6 = [600,300,100]\n",
    "layer7 = [100,100,100]\n",
    "layer8 = [300,300,300]\n",
    "layer9 = [300,250,200,150,100]\n",
    "layer10 = [600,500,400,300,200]\n",
    "layer11 = [100,100,100,100,100]\n",
    "layer12 = [300,300,300,300,300]"
   ]
  },
  {
   "cell_type": "code",
   "execution_count": 34,
   "metadata": {},
   "outputs": [
    {
     "data": {
      "text/plain": [
       "[[300, 100],\n",
       " [600, 300],\n",
       " [100, 100],\n",
       " [300, 300],\n",
       " [300, 200, 100],\n",
       " [600, 300, 100],\n",
       " [100, 100, 100],\n",
       " [300, 300, 300],\n",
       " [300, 250, 200, 150, 100],\n",
       " [600, 500, 400, 300, 200],\n",
       " [100, 100, 100, 100, 100],\n",
       " [300, 300, 300, 300, 300]]"
      ]
     },
     "execution_count": 34,
     "metadata": {},
     "output_type": "execute_result"
    }
   ],
   "source": [
    "# Create a list of the layers to use in each iteration\n",
    "hidden_unit_items = [layer1, layer2, layer3, layer4, layer5, layer6, layer7, layer8, layer9, layer10, layer11, layer12]\n",
    "type(hidden_unit_items)\n",
    "hidden_unit_items"
   ]
  },
  {
   "cell_type": "code",
   "execution_count": 35,
   "metadata": {},
   "outputs": [],
   "source": [
    "# Create lists to hold the results of each iteration.\n",
    "index_for_method = 0 \n",
    "training_performance_results = []\n",
    "validation_performance_results = []\n",
    "processing_time = []"
   ]
  },
  {
   "cell_type": "code",
   "execution_count": 36,
   "metadata": {
    "scrolled": true
   },
   "outputs": [
    {
     "name": "stdout",
     "output_type": "stream",
     "text": [
      "\n",
      "------------------------------------\n",
      "\n",
      "Method: 2-Layers-300-Node-Max-per-Layer-Funnel\n",
      "\n",
      "  Specification of method: [300, 100]\n",
      "WARNING:tensorflow:Using temporary folder as model directory: C:\\Users\\DELL\\AppData\\Local\\Temp\\tmphead9959\n",
      "\n",
      "Processing time (seconds): 57.708598\n",
      "\n",
      "Training set accuracy: 1.000000\n",
      "\n",
      "Validation set accuracy: 0.975595\n",
      "\n",
      "------------------------------------\n",
      "\n",
      "Method: 2-Layers-600-Node-Max-per-Layer-Funnel\n",
      "\n",
      "  Specification of method: [600, 300]\n",
      "WARNING:tensorflow:Using temporary folder as model directory: C:\\Users\\DELL\\AppData\\Local\\Temp\\tmpil14l2ke\n",
      "\n",
      "Processing time (seconds): 121.792811\n",
      "\n",
      "Training set accuracy: 1.000000\n",
      "\n",
      "Validation set accuracy: 0.977381\n",
      "\n",
      "------------------------------------\n",
      "\n",
      "Method: 2-Layers-100-Node-Max-per-Layer-Constant\n",
      "\n",
      "  Specification of method: [100, 100]\n",
      "WARNING:tensorflow:Using temporary folder as model directory: C:\\Users\\DELL\\AppData\\Local\\Temp\\tmp3frwg_p2\n",
      "\n",
      "Processing time (seconds): 40.963498\n",
      "\n",
      "Training set accuracy: 0.999970\n",
      "\n",
      "Validation set accuracy: 0.972738\n",
      "\n",
      "------------------------------------\n",
      "\n",
      "Method: 2-Layers-300-Node-Max-per-Layer-Constant\n",
      "\n",
      "  Specification of method: [300, 300]\n",
      "WARNING:tensorflow:Using temporary folder as model directory: C:\\Users\\DELL\\AppData\\Local\\Temp\\tmptgdncdh3\n",
      "\n",
      "Processing time (seconds): 67.497696\n",
      "\n",
      "Training set accuracy: 1.000000\n",
      "\n",
      "Validation set accuracy: 0.973214\n",
      "\n",
      "------------------------------------\n",
      "\n",
      "Method: 3-Layers-300-Node-Max-per-Layer-Funnel\n",
      "\n",
      "  Specification of method: [300, 200, 100]\n",
      "WARNING:tensorflow:Using temporary folder as model directory: C:\\Users\\DELL\\AppData\\Local\\Temp\\tmpkg4dn1_g\n",
      "\n",
      "Processing time (seconds): 69.825244\n",
      "\n",
      "Training set accuracy: 1.000000\n",
      "\n",
      "Validation set accuracy: 0.975595\n",
      "\n",
      "------------------------------------\n",
      "\n",
      "Method: 3-Layers-600-Node-Max-per-Layer-Funnel\n",
      "\n",
      "  Specification of method: [600, 300, 100]\n",
      "WARNING:tensorflow:Using temporary folder as model directory: C:\\Users\\DELL\\AppData\\Local\\Temp\\tmpxfgo94uv\n",
      "\n",
      "Processing time (seconds): 128.524423\n",
      "\n",
      "Training set accuracy: 1.000000\n",
      "\n",
      "Validation set accuracy: 0.974762\n",
      "\n",
      "------------------------------------\n",
      "\n",
      "Method: 3-Layers-100-Node-Max-per-Layer-Constant\n",
      "\n",
      "  Specification of method: [100, 100, 100]\n",
      "WARNING:tensorflow:Using temporary folder as model directory: C:\\Users\\DELL\\AppData\\Local\\Temp\\tmp96e0qi1_\n",
      "\n",
      "Processing time (seconds): 46.491012\n",
      "\n",
      "Training set accuracy: 1.000000\n",
      "\n",
      "Validation set accuracy: 0.969643\n",
      "\n",
      "------------------------------------\n",
      "\n",
      "Method: 3-Layers-300-Node-Max-per-Layer-Constant\n",
      "\n",
      "  Specification of method: [300, 300, 300]\n",
      "WARNING:tensorflow:Using temporary folder as model directory: C:\\Users\\DELL\\AppData\\Local\\Temp\\tmprtyn8kuz\n",
      "\n",
      "Processing time (seconds): 84.511638\n",
      "\n",
      "Training set accuracy: 1.000000\n",
      "\n",
      "Validation set accuracy: 0.972619\n",
      "\n",
      "------------------------------------\n",
      "\n",
      "Method: 5-Layers-300-Node-Max-per-Layer-Funnel\n",
      "\n",
      "  Specification of method: [300, 250, 200, 150, 100]\n",
      "WARNING:tensorflow:Using temporary folder as model directory: C:\\Users\\DELL\\AppData\\Local\\Temp\\tmp033fp4j3\n",
      "\n",
      "Processing time (seconds): 92.978005\n",
      "\n",
      "Training set accuracy: 1.000000\n",
      "\n",
      "Validation set accuracy: 0.975238\n",
      "\n",
      "------------------------------------\n",
      "\n",
      "Method: 5-Layers-600-Node-Max-per-Layer-Funnel\n",
      "\n",
      "  Specification of method: [600, 500, 400, 300, 200]\n",
      "WARNING:tensorflow:Using temporary folder as model directory: C:\\Users\\DELL\\AppData\\Local\\Temp\\tmppl03jlgx\n",
      "\n",
      "Processing time (seconds): 222.417990\n",
      "\n",
      "Training set accuracy: 1.000000\n",
      "\n",
      "Validation set accuracy: 0.970238\n",
      "\n",
      "------------------------------------\n",
      "\n",
      "Method: 5-Layers-100-Node-Max-per-Layer-Constant\n",
      "\n",
      "  Specification of method: [100, 100, 100, 100, 100]\n",
      "WARNING:tensorflow:Using temporary folder as model directory: C:\\Users\\DELL\\AppData\\Local\\Temp\\tmpwq6xlhsr\n",
      "\n",
      "Processing time (seconds): 56.169789\n",
      "\n",
      "Training set accuracy: 1.000000\n",
      "\n",
      "Validation set accuracy: 0.969643\n",
      "\n",
      "------------------------------------\n",
      "\n",
      "Method: 5-Layers-300-Node-Max-per-Layer-Constant\n",
      "\n",
      "  Specification of method: [300, 300, 300, 300, 300]\n",
      "WARNING:tensorflow:Using temporary folder as model directory: C:\\Users\\DELL\\AppData\\Local\\Temp\\tmp1yq6jahi\n",
      "\n",
      "Processing time (seconds): 121.358784\n",
      "\n",
      "Training set accuracy: 1.000000\n",
      "\n",
      "Validation set accuracy: 0.969881\n"
     ]
    }
   ],
   "source": [
    "for name, unit in zip(names, hidden_unit_items):\n",
    "    print('\\n------------------------------------')\n",
    "    print('\\nMethod:', name)\n",
    "    print('\\n  Specification of method:', unit)\n",
    "    \n",
    "    start_time = time.clock() # start timer to evaluate how long it takes to train this base model\n",
    "    \n",
    "    tf.set_random_seed(RANDOM_SEED)\n",
    "    \n",
    "    # Create the model\n",
    "    feature_cols = [tf.feature_column.numeric_column(\"X\", shape=[28 * 28])]\n",
    "    dnn_clf = tf.estimator.DNNClassifier(hidden_units=unit, n_classes=10,\n",
    "                                         feature_columns=feature_cols) # create DNN classifier\n",
    "\n",
    "    tf.logging.set_verbosity(tf.logging.WARN) # surpress progress report, only show warnings.  This was added\n",
    "                                        # to increase usability when uploaded to GitHub.\n",
    "            \n",
    "    # Train the model\n",
    "    input_fn = tf.estimator.inputs.numpy_input_fn(\n",
    "        x={\"X\": X_train}, y=y_train, num_epochs=40, batch_size=50, shuffle=True)\n",
    "    dnn_clf.train(input_fn=input_fn)\n",
    "    \n",
    "    end_time = time.clock() # end timer\n",
    "    runtime = end_time - start_time  # seconds of wall-clock time \n",
    "    print(\"\\nProcessing time (seconds): %f\" % runtime)  # print process time to train model        \n",
    "    processing_time.append(runtime) # append process time results to list for comparison table\n",
    "    \n",
    "    # Evaluate the model\n",
    "    train_input_fn = tf.estimator.inputs.numpy_input_fn(\n",
    "        x={\"X\": X_train}, y=y_train, shuffle=False)\n",
    "    train_eval_results = dnn_clf.evaluate(input_fn=train_input_fn) # training results\n",
    "    \n",
    "    valid_input_fn = tf.estimator.inputs.numpy_input_fn(\n",
    "        x={\"X\": X_valid}, y=y_valid, shuffle=False)\n",
    "    valid_eval_results = dnn_clf.evaluate(input_fn=valid_input_fn) # validation results\n",
    "        \n",
    "    \n",
    "    # mean accuracy of prediction in training set\n",
    "    training_performance = train_eval_results['accuracy']\n",
    "    print(\"\\nTraining set accuracy: %f\" % training_performance)\n",
    "    training_performance_results.append(training_performance) # append results to list for comparison table\n",
    "\n",
    "    # mean accuracy of prediction in validation set\n",
    "    validation_performance = valid_eval_results['accuracy']\n",
    "    print(\"\\nValidation set accuracy: %f\" % validation_performance)\n",
    "    validation_performance_results.append(validation_performance) # append results to list for comparison table\n",
    "                \n",
    "    index_for_method += 1"
   ]
  },
  {
   "cell_type": "code",
   "execution_count": 37,
   "metadata": {
    "scrolled": true
   },
   "outputs": [
    {
     "name": "stdout",
     "output_type": "stream",
     "text": [
      "\n",
      "Benchmark Experiment: Tensorflow Deep Neural Networks\n",
      "\n"
     ]
    },
    {
     "data": {
      "text/html": [
       "<div>\n",
       "<style scoped>\n",
       "    .dataframe tbody tr th:only-of-type {\n",
       "        vertical-align: middle;\n",
       "    }\n",
       "\n",
       "    .dataframe tbody tr th {\n",
       "        vertical-align: top;\n",
       "    }\n",
       "\n",
       "    .dataframe thead th {\n",
       "        text-align: right;\n",
       "    }\n",
       "</style>\n",
       "<table border=\"1\" class=\"dataframe\">\n",
       "  <thead>\n",
       "    <tr style=\"text-align: right;\">\n",
       "      <th></th>\n",
       "      <th>Method Name</th>\n",
       "      <th>Layers</th>\n",
       "      <th>Max Nodes per Layer</th>\n",
       "      <th>Processing Time</th>\n",
       "      <th>Training Set Accuracy</th>\n",
       "      <th>Validation Set Accuracy</th>\n",
       "    </tr>\n",
       "  </thead>\n",
       "  <tbody>\n",
       "    <tr>\n",
       "      <th>0</th>\n",
       "      <td>2-Layers-300-Node-Max-per-Layer-Funnel</td>\n",
       "      <td>2</td>\n",
       "      <td>300</td>\n",
       "      <td>57.708598</td>\n",
       "      <td>1.00000</td>\n",
       "      <td>0.975595</td>\n",
       "    </tr>\n",
       "    <tr>\n",
       "      <th>1</th>\n",
       "      <td>2-Layers-600-Node-Max-per-Layer-Funnel</td>\n",
       "      <td>2</td>\n",
       "      <td>600</td>\n",
       "      <td>121.792811</td>\n",
       "      <td>1.00000</td>\n",
       "      <td>0.977381</td>\n",
       "    </tr>\n",
       "    <tr>\n",
       "      <th>2</th>\n",
       "      <td>2-Layers-100-Node-Max-per-Layer-Constant</td>\n",
       "      <td>2</td>\n",
       "      <td>100</td>\n",
       "      <td>40.963498</td>\n",
       "      <td>0.99997</td>\n",
       "      <td>0.972738</td>\n",
       "    </tr>\n",
       "    <tr>\n",
       "      <th>3</th>\n",
       "      <td>2-Layers-300-Node-Max-per-Layer-Constant</td>\n",
       "      <td>2</td>\n",
       "      <td>300</td>\n",
       "      <td>67.497696</td>\n",
       "      <td>1.00000</td>\n",
       "      <td>0.973214</td>\n",
       "    </tr>\n",
       "    <tr>\n",
       "      <th>4</th>\n",
       "      <td>3-Layers-300-Node-Max-per-Layer-Funnel</td>\n",
       "      <td>3</td>\n",
       "      <td>300</td>\n",
       "      <td>69.825244</td>\n",
       "      <td>1.00000</td>\n",
       "      <td>0.975595</td>\n",
       "    </tr>\n",
       "    <tr>\n",
       "      <th>5</th>\n",
       "      <td>3-Layers-600-Node-Max-per-Layer-Funnel</td>\n",
       "      <td>3</td>\n",
       "      <td>600</td>\n",
       "      <td>128.524423</td>\n",
       "      <td>1.00000</td>\n",
       "      <td>0.974762</td>\n",
       "    </tr>\n",
       "    <tr>\n",
       "      <th>6</th>\n",
       "      <td>3-Layers-100-Node-Max-per-Layer-Constant</td>\n",
       "      <td>3</td>\n",
       "      <td>100</td>\n",
       "      <td>46.491012</td>\n",
       "      <td>1.00000</td>\n",
       "      <td>0.969643</td>\n",
       "    </tr>\n",
       "    <tr>\n",
       "      <th>7</th>\n",
       "      <td>3-Layers-300-Node-Max-per-Layer-Constant</td>\n",
       "      <td>3</td>\n",
       "      <td>300</td>\n",
       "      <td>84.511638</td>\n",
       "      <td>1.00000</td>\n",
       "      <td>0.972619</td>\n",
       "    </tr>\n",
       "    <tr>\n",
       "      <th>8</th>\n",
       "      <td>5-Layers-300-Node-Max-per-Layer-Funnel</td>\n",
       "      <td>5</td>\n",
       "      <td>300</td>\n",
       "      <td>92.978005</td>\n",
       "      <td>1.00000</td>\n",
       "      <td>0.975238</td>\n",
       "    </tr>\n",
       "    <tr>\n",
       "      <th>9</th>\n",
       "      <td>5-Layers-600-Node-Max-per-Layer-Funnel</td>\n",
       "      <td>5</td>\n",
       "      <td>600</td>\n",
       "      <td>222.417990</td>\n",
       "      <td>1.00000</td>\n",
       "      <td>0.970238</td>\n",
       "    </tr>\n",
       "    <tr>\n",
       "      <th>10</th>\n",
       "      <td>5-Layers-100-Node-Max-per-Layer-Constant</td>\n",
       "      <td>5</td>\n",
       "      <td>100</td>\n",
       "      <td>56.169789</td>\n",
       "      <td>1.00000</td>\n",
       "      <td>0.969643</td>\n",
       "    </tr>\n",
       "    <tr>\n",
       "      <th>11</th>\n",
       "      <td>5-Layers-300-Node-Max-per-Layer-Constant</td>\n",
       "      <td>5</td>\n",
       "      <td>300</td>\n",
       "      <td>121.358784</td>\n",
       "      <td>1.00000</td>\n",
       "      <td>0.969881</td>\n",
       "    </tr>\n",
       "  </tbody>\n",
       "</table>\n",
       "</div>"
      ],
      "text/plain": [
       "                                 Method Name  Layers  Max Nodes per Layer  \\\n",
       "0     2-Layers-300-Node-Max-per-Layer-Funnel       2                  300   \n",
       "1     2-Layers-600-Node-Max-per-Layer-Funnel       2                  600   \n",
       "2   2-Layers-100-Node-Max-per-Layer-Constant       2                  100   \n",
       "3   2-Layers-300-Node-Max-per-Layer-Constant       2                  300   \n",
       "4     3-Layers-300-Node-Max-per-Layer-Funnel       3                  300   \n",
       "5     3-Layers-600-Node-Max-per-Layer-Funnel       3                  600   \n",
       "6   3-Layers-100-Node-Max-per-Layer-Constant       3                  100   \n",
       "7   3-Layers-300-Node-Max-per-Layer-Constant       3                  300   \n",
       "8     5-Layers-300-Node-Max-per-Layer-Funnel       5                  300   \n",
       "9     5-Layers-600-Node-Max-per-Layer-Funnel       5                  600   \n",
       "10  5-Layers-100-Node-Max-per-Layer-Constant       5                  100   \n",
       "11  5-Layers-300-Node-Max-per-Layer-Constant       5                  300   \n",
       "\n",
       "    Processing Time  Training Set Accuracy  Validation Set Accuracy  \n",
       "0         57.708598                1.00000                 0.975595  \n",
       "1        121.792811                1.00000                 0.977381  \n",
       "2         40.963498                0.99997                 0.972738  \n",
       "3         67.497696                1.00000                 0.973214  \n",
       "4         69.825244                1.00000                 0.975595  \n",
       "5        128.524423                1.00000                 0.974762  \n",
       "6         46.491012                1.00000                 0.969643  \n",
       "7         84.511638                1.00000                 0.972619  \n",
       "8         92.978005                1.00000                 0.975238  \n",
       "9        222.417990                1.00000                 0.970238  \n",
       "10        56.169789                1.00000                 0.969643  \n",
       "11       121.358784                1.00000                 0.969881  "
      ]
     },
     "execution_count": 37,
     "metadata": {},
     "output_type": "execute_result"
    }
   ],
   "source": [
    "# Create a table to display results of this experiment\n",
    "results = pd.DataFrame(OrderedDict([('Method Name', names),\n",
    "                        ('Layers', Layers),\n",
    "                        ('Max Nodes per Layer', max_nodes_per_layer),\n",
    "                        ('Processing Time', processing_time),\n",
    "                        ('Training Set Accuracy', training_performance_results),\n",
    "                        ('Validation Set Accuracy', validation_performance_results)]))\n",
    "\n",
    "print('\\nBenchmark Experiment: Tensorflow Deep Neural Networks\\n')\n",
    "results "
   ]
  },
  {
   "cell_type": "markdown",
   "metadata": {},
   "source": [
    "#### <font color='blue'>Table 5: Benchmark Experiment: Tensorflow Deep Neural Networks</font>"
   ]
  },
  {
   "cell_type": "markdown",
   "metadata": {},
   "source": [
    "In this experiment a loop was used to try several different combinations of number of layers and nodes to find the opitmal structure.  Table 4 suggests that two layers in the deep neural network (DNN) provides the best accuracy when using the validation data as the decision factor, as all four tests with two layers resulted in strong validation scores typically 0.970 or greater. There is no strong reason to increase the number of layers any further as the three layer and five layer models perform slighly worse and can begin to take more time to train.  Additionally, the larger number of nodes appears to be beneficial, as the model with 2 layers and 600 node maximum per layer edges out the model with 2 layers and 300 node maximum per layer.  Last, the funnel approach to layers appears to provide the best model predictions.  While slightly on the longer side of training time (but certainly not the maximum model training time), the 2-Layers-600-Node-Max-per_Layer-Funnel model appears to be the best predictor when using accuracy of the validation set predictions as an indicator."
   ]
  },
  {
   "cell_type": "markdown",
   "metadata": {},
   "source": [
    "### Model 2 - Tensorflow Neural Network Using Scikit-Learn\n",
    "### Fine Tune Number of Layers and Nodes"
   ]
  },
  {
   "cell_type": "markdown",
   "metadata": {},
   "source": [
    "Using the results from the previous experiements, this model will continue to fine tune the DNN model.  Specifically, a 2-layer DNN will be developed to optimize the validation predictions.  The step in the node funnel size will be evaluated further to find an optimal model design."
   ]
  },
  {
   "cell_type": "code",
   "execution_count": 38,
   "metadata": {},
   "outputs": [],
   "source": [
    "# Create names for each iteration of the model\n",
    "names = ['2-Layers-600-Node-Max-per-Layer-50-Step-Funnel',\n",
    "         '2-Layers-600-Node-Max-per-Layer-100-Step-Funnel',\n",
    "         '2-Layers-600-Node-Max-per-Layer-200-Step-Funnel',\n",
    "         '2-Layers-600-Node-Max-per-Layer-300-Step-Funnel',\n",
    "         '2-Layers-600-Node-Max-per-Layer-400-Step-Funnel',\n",
    "         '2-Layers-600-Node-Max-per-Layer-500-Step-Funnel',\n",
    "         '2-Layers-700-Node-Max-per-Layer-50-Step-Funnel',\n",
    "         '2-Layers-700-Node-Max-per-Layer-100-Step-Funnel',\n",
    "         '2-Layers-700-Node-Max-per-Layer-200-Step-Funnel',\n",
    "         '2-Layers-700-Node-Max-per-Layer-300-Step-Funnel',\n",
    "         '2-Layers-700-Node-Max-per-Layer-400-Step-Funnel',\n",
    "         '2-Layers-700-Node-Max-per-Layer-500-Step-Funnel']"
   ]
  },
  {
   "cell_type": "code",
   "execution_count": 39,
   "metadata": {},
   "outputs": [],
   "source": [
    "# Define the layers for each iteration of the model\n",
    "Layers = [2, 2, 2, 2, 2, 2, 2, 2, 2, 2, 2, 2]"
   ]
  },
  {
   "cell_type": "code",
   "execution_count": 40,
   "metadata": {},
   "outputs": [],
   "source": [
    "# Define the max number of nodes for each iteration of the model.  \n",
    "# This is just informational for the comparison table.\n",
    "max_nodes_per_layer = [600, 600, 600, 600, 600, 600, 700, 700, 700, 700, 700, 700]"
   ]
  },
  {
   "cell_type": "code",
   "execution_count": 41,
   "metadata": {},
   "outputs": [],
   "source": [
    "# Define the number of layers and number of nodes per layer for each iteration of the model.\n",
    "layer1 = [600,550]\n",
    "layer2 = [600,500]\n",
    "layer3 = [600,400]\n",
    "layer4 = [600,300]\n",
    "layer5 = [600,200]\n",
    "layer6 = [600,100]\n",
    "layer7 = [700,650]\n",
    "layer8 = [700,600]\n",
    "layer9 = [700,500]\n",
    "layer10 = [700,400]\n",
    "layer11 = [700,300]\n",
    "layer12 = [700,200]"
   ]
  },
  {
   "cell_type": "code",
   "execution_count": 42,
   "metadata": {},
   "outputs": [
    {
     "data": {
      "text/plain": [
       "[[600, 550],\n",
       " [600, 500],\n",
       " [600, 400],\n",
       " [600, 300],\n",
       " [600, 200],\n",
       " [600, 100],\n",
       " [700, 650],\n",
       " [700, 600],\n",
       " [700, 500],\n",
       " [700, 400],\n",
       " [700, 300],\n",
       " [700, 200]]"
      ]
     },
     "execution_count": 42,
     "metadata": {},
     "output_type": "execute_result"
    }
   ],
   "source": [
    "# Create a list of the layers to use in each iteration\n",
    "hidden_unit_items = [layer1, layer2, layer3, layer4, layer5, layer6, layer7, layer8,\n",
    "                     layer9, layer10, layer11, layer12]\n",
    "type(hidden_unit_items)\n",
    "hidden_unit_items"
   ]
  },
  {
   "cell_type": "code",
   "execution_count": 43,
   "metadata": {},
   "outputs": [],
   "source": [
    "# Create lists to hold the results of each iteration.\n",
    "index_for_method = 0 \n",
    "training_performance_results = []\n",
    "validation_performance_results = []\n",
    "processing_time = []"
   ]
  },
  {
   "cell_type": "code",
   "execution_count": 44,
   "metadata": {
    "scrolled": true
   },
   "outputs": [
    {
     "name": "stdout",
     "output_type": "stream",
     "text": [
      "\n",
      "------------------------------------\n",
      "\n",
      "Method: 2-Layers-600-Node-Max-per-Layer-50-Step-Funnel\n",
      "\n",
      "  Specification of method: [600, 550]\n",
      "WARNING:tensorflow:Using temporary folder as model directory: C:\\Users\\DELL\\AppData\\Local\\Temp\\tmph_9ev64v\n",
      "\n",
      "Processing time (seconds): 163.875281\n",
      "\n",
      "Training set accuracy: 1.000000\n",
      "\n",
      "Validation set accuracy: 0.975238\n",
      "\n",
      "------------------------------------\n",
      "\n",
      "Method: 2-Layers-600-Node-Max-per-Layer-100-Step-Funnel\n",
      "\n",
      "  Specification of method: [600, 500]\n",
      "WARNING:tensorflow:Using temporary folder as model directory: C:\\Users\\DELL\\AppData\\Local\\Temp\\tmp31sd16hh\n",
      "\n",
      "Processing time (seconds): 153.912467\n",
      "\n",
      "Training set accuracy: 1.000000\n",
      "\n",
      "Validation set accuracy: 0.977381\n",
      "\n",
      "------------------------------------\n",
      "\n",
      "Method: 2-Layers-600-Node-Max-per-Layer-200-Step-Funnel\n",
      "\n",
      "  Specification of method: [600, 400]\n",
      "WARNING:tensorflow:Using temporary folder as model directory: C:\\Users\\DELL\\AppData\\Local\\Temp\\tmpx675vbtm\n",
      "\n",
      "Processing time (seconds): 137.655024\n",
      "\n",
      "Training set accuracy: 1.000000\n",
      "\n",
      "Validation set accuracy: 0.975595\n",
      "\n",
      "------------------------------------\n",
      "\n",
      "Method: 2-Layers-600-Node-Max-per-Layer-300-Step-Funnel\n",
      "\n",
      "  Specification of method: [600, 300]\n",
      "WARNING:tensorflow:Using temporary folder as model directory: C:\\Users\\DELL\\AppData\\Local\\Temp\\tmp63w29jyr\n",
      "\n",
      "Processing time (seconds): 120.750260\n",
      "\n",
      "Training set accuracy: 1.000000\n",
      "\n",
      "Validation set accuracy: 0.976667\n",
      "\n",
      "------------------------------------\n",
      "\n",
      "Method: 2-Layers-600-Node-Max-per-Layer-400-Step-Funnel\n",
      "\n",
      "  Specification of method: [600, 200]\n",
      "WARNING:tensorflow:Using temporary folder as model directory: C:\\Users\\DELL\\AppData\\Local\\Temp\\tmpiq4df8i2\n",
      "\n",
      "Processing time (seconds): 113.476729\n",
      "\n",
      "Training set accuracy: 1.000000\n",
      "\n",
      "Validation set accuracy: 0.976667\n",
      "\n",
      "------------------------------------\n",
      "\n",
      "Method: 2-Layers-600-Node-Max-per-Layer-500-Step-Funnel\n",
      "\n",
      "  Specification of method: [600, 100]\n",
      "WARNING:tensorflow:Using temporary folder as model directory: C:\\Users\\DELL\\AppData\\Local\\Temp\\tmpdhcase92\n",
      "\n",
      "Processing time (seconds): 104.801969\n",
      "\n",
      "Training set accuracy: 1.000000\n",
      "\n",
      "Validation set accuracy: 0.977143\n",
      "\n",
      "------------------------------------\n",
      "\n",
      "Method: 2-Layers-700-Node-Max-per-Layer-50-Step-Funnel\n",
      "\n",
      "  Specification of method: [700, 650]\n",
      "WARNING:tensorflow:Using temporary folder as model directory: C:\\Users\\DELL\\AppData\\Local\\Temp\\tmpwghn8g_b\n",
      "\n",
      "Processing time (seconds): 189.018758\n",
      "\n",
      "Training set accuracy: 1.000000\n",
      "\n",
      "Validation set accuracy: 0.975119\n",
      "\n",
      "------------------------------------\n",
      "\n",
      "Method: 2-Layers-700-Node-Max-per-Layer-100-Step-Funnel\n",
      "\n",
      "  Specification of method: [700, 600]\n",
      "WARNING:tensorflow:Using temporary folder as model directory: C:\\Users\\DELL\\AppData\\Local\\Temp\\tmpj49155it\n",
      "\n",
      "Processing time (seconds): 180.718724\n",
      "\n",
      "Training set accuracy: 1.000000\n",
      "\n",
      "Validation set accuracy: 0.975000\n",
      "\n",
      "------------------------------------\n",
      "\n",
      "Method: 2-Layers-700-Node-Max-per-Layer-200-Step-Funnel\n",
      "\n",
      "  Specification of method: [700, 500]\n",
      "WARNING:tensorflow:Using temporary folder as model directory: C:\\Users\\DELL\\AppData\\Local\\Temp\\tmplhttweej\n",
      "\n",
      "Processing time (seconds): 169.886834\n",
      "\n",
      "Training set accuracy: 1.000000\n",
      "\n",
      "Validation set accuracy: 0.978810\n",
      "\n",
      "------------------------------------\n",
      "\n",
      "Method: 2-Layers-700-Node-Max-per-Layer-300-Step-Funnel\n",
      "\n",
      "  Specification of method: [700, 400]\n",
      "WARNING:tensorflow:Using temporary folder as model directory: C:\\Users\\DELL\\AppData\\Local\\Temp\\tmpnrsg_8hk\n",
      "\n",
      "Processing time (seconds): 158.336167\n",
      "\n",
      "Training set accuracy: 1.000000\n",
      "\n",
      "Validation set accuracy: 0.976429\n",
      "\n",
      "------------------------------------\n",
      "\n",
      "Method: 2-Layers-700-Node-Max-per-Layer-400-Step-Funnel\n",
      "\n",
      "  Specification of method: [700, 300]\n",
      "WARNING:tensorflow:Using temporary folder as model directory: C:\\Users\\DELL\\AppData\\Local\\Temp\\tmpmvquz95n\n",
      "\n",
      "Processing time (seconds): 137.659403\n",
      "\n",
      "Training set accuracy: 1.000000\n",
      "\n",
      "Validation set accuracy: 0.977738\n",
      "\n",
      "------------------------------------\n",
      "\n",
      "Method: 2-Layers-700-Node-Max-per-Layer-500-Step-Funnel\n",
      "\n",
      "  Specification of method: [700, 200]\n",
      "WARNING:tensorflow:Using temporary folder as model directory: C:\\Users\\DELL\\AppData\\Local\\Temp\\tmpakc3s6gi\n",
      "\n",
      "Processing time (seconds): 129.029486\n",
      "\n",
      "Training set accuracy: 1.000000\n",
      "\n",
      "Validation set accuracy: 0.976905\n"
     ]
    }
   ],
   "source": [
    "for name, unit in zip(names, hidden_unit_items):\n",
    "    print('\\n------------------------------------')\n",
    "    print('\\nMethod:', name)\n",
    "    print('\\n  Specification of method:', unit)\n",
    "    start_time = time.clock()\n",
    "    \n",
    "    tf.set_random_seed(RANDOM_SEED)\n",
    "    feature_cols = [tf.feature_column.numeric_column(\"X\", shape=[28 * 28])]\n",
    "    dnn_clf = tf.estimator.DNNClassifier(hidden_units=unit, n_classes=10,\n",
    "                                         feature_columns=feature_cols)\n",
    "    \n",
    "    tf.logging.set_verbosity(tf.logging.WARN) # surpress progress report, only show warnings.  This was added\n",
    "                                        # to increase usability when uploaded to GitHub.\n",
    "            \n",
    "    # Train the model\n",
    "    input_fn = tf.estimator.inputs.numpy_input_fn(\n",
    "        x={\"X\": X_train}, y=y_train, num_epochs=40, batch_size=50, shuffle=True)\n",
    "    dnn_clf.train(input_fn=input_fn)\n",
    "    \n",
    "    end_time = time.clock() # end timer\n",
    "    runtime = end_time - start_time  # seconds of wall-clock time \n",
    "    print(\"\\nProcessing time (seconds): %f\" % runtime)  # print process time to train model        \n",
    "    processing_time.append(runtime) # append process time results to list for comparison table\n",
    "        \n",
    "    # Evaluate the model\n",
    "    train_input_fn = tf.estimator.inputs.numpy_input_fn(\n",
    "        x={\"X\": X_train}, y=y_train, shuffle=False)\n",
    "    train_eval_results = dnn_clf.evaluate(input_fn=train_input_fn) # training results\n",
    "    \n",
    "    valid_input_fn = tf.estimator.inputs.numpy_input_fn(\n",
    "        x={\"X\": X_valid}, y=y_valid, shuffle=False)\n",
    "    valid_eval_results = dnn_clf.evaluate(input_fn=valid_input_fn) # validation results\n",
    "        \n",
    "    \n",
    "    # mean accuracy of prediction in training set\n",
    "    training_performance = train_eval_results['accuracy']\n",
    "    print(\"\\nTraining set accuracy: %f\" % training_performance)\n",
    "    training_performance_results.append(training_performance) # append results to list for comparison table\n",
    "\n",
    "\n",
    "    # mean accuracy of prediction in test set\n",
    "    validation_performance = valid_eval_results['accuracy']\n",
    "    print(\"\\nValidation set accuracy: %f\" % validation_performance)\n",
    "    validation_performance_results.append(validation_performance) # append results to list for comparison table\n",
    "                \n",
    "    index_for_method += 1"
   ]
  },
  {
   "cell_type": "code",
   "execution_count": 45,
   "metadata": {
    "scrolled": true
   },
   "outputs": [
    {
     "name": "stdout",
     "output_type": "stream",
     "text": [
      "\n",
      "Fine Tuning of Model: Tensorflow Deep Neural Networks\n",
      "\n"
     ]
    },
    {
     "data": {
      "text/html": [
       "<div>\n",
       "<style scoped>\n",
       "    .dataframe tbody tr th:only-of-type {\n",
       "        vertical-align: middle;\n",
       "    }\n",
       "\n",
       "    .dataframe tbody tr th {\n",
       "        vertical-align: top;\n",
       "    }\n",
       "\n",
       "    .dataframe thead th {\n",
       "        text-align: right;\n",
       "    }\n",
       "</style>\n",
       "<table border=\"1\" class=\"dataframe\">\n",
       "  <thead>\n",
       "    <tr style=\"text-align: right;\">\n",
       "      <th></th>\n",
       "      <th>Method Name</th>\n",
       "      <th>Layers</th>\n",
       "      <th>Max Nodes per Layer</th>\n",
       "      <th>Processing Time</th>\n",
       "      <th>Training Set Accuracy</th>\n",
       "      <th>Validation Set Accuracy</th>\n",
       "    </tr>\n",
       "  </thead>\n",
       "  <tbody>\n",
       "    <tr>\n",
       "      <th>0</th>\n",
       "      <td>2-Layers-600-Node-Max-per-Layer-50-Step-Funnel</td>\n",
       "      <td>2</td>\n",
       "      <td>600</td>\n",
       "      <td>163.875281</td>\n",
       "      <td>1.0</td>\n",
       "      <td>0.975238</td>\n",
       "    </tr>\n",
       "    <tr>\n",
       "      <th>1</th>\n",
       "      <td>2-Layers-600-Node-Max-per-Layer-100-Step-Funnel</td>\n",
       "      <td>2</td>\n",
       "      <td>600</td>\n",
       "      <td>153.912467</td>\n",
       "      <td>1.0</td>\n",
       "      <td>0.977381</td>\n",
       "    </tr>\n",
       "    <tr>\n",
       "      <th>2</th>\n",
       "      <td>2-Layers-600-Node-Max-per-Layer-200-Step-Funnel</td>\n",
       "      <td>2</td>\n",
       "      <td>600</td>\n",
       "      <td>137.655024</td>\n",
       "      <td>1.0</td>\n",
       "      <td>0.975595</td>\n",
       "    </tr>\n",
       "    <tr>\n",
       "      <th>3</th>\n",
       "      <td>2-Layers-600-Node-Max-per-Layer-300-Step-Funnel</td>\n",
       "      <td>2</td>\n",
       "      <td>600</td>\n",
       "      <td>120.750260</td>\n",
       "      <td>1.0</td>\n",
       "      <td>0.976667</td>\n",
       "    </tr>\n",
       "    <tr>\n",
       "      <th>4</th>\n",
       "      <td>2-Layers-600-Node-Max-per-Layer-400-Step-Funnel</td>\n",
       "      <td>2</td>\n",
       "      <td>600</td>\n",
       "      <td>113.476729</td>\n",
       "      <td>1.0</td>\n",
       "      <td>0.976667</td>\n",
       "    </tr>\n",
       "    <tr>\n",
       "      <th>5</th>\n",
       "      <td>2-Layers-600-Node-Max-per-Layer-500-Step-Funnel</td>\n",
       "      <td>2</td>\n",
       "      <td>600</td>\n",
       "      <td>104.801969</td>\n",
       "      <td>1.0</td>\n",
       "      <td>0.977143</td>\n",
       "    </tr>\n",
       "    <tr>\n",
       "      <th>6</th>\n",
       "      <td>2-Layers-700-Node-Max-per-Layer-50-Step-Funnel</td>\n",
       "      <td>2</td>\n",
       "      <td>700</td>\n",
       "      <td>189.018758</td>\n",
       "      <td>1.0</td>\n",
       "      <td>0.975119</td>\n",
       "    </tr>\n",
       "    <tr>\n",
       "      <th>7</th>\n",
       "      <td>2-Layers-700-Node-Max-per-Layer-100-Step-Funnel</td>\n",
       "      <td>2</td>\n",
       "      <td>700</td>\n",
       "      <td>180.718724</td>\n",
       "      <td>1.0</td>\n",
       "      <td>0.975000</td>\n",
       "    </tr>\n",
       "    <tr>\n",
       "      <th>8</th>\n",
       "      <td>2-Layers-700-Node-Max-per-Layer-200-Step-Funnel</td>\n",
       "      <td>2</td>\n",
       "      <td>700</td>\n",
       "      <td>169.886834</td>\n",
       "      <td>1.0</td>\n",
       "      <td>0.978810</td>\n",
       "    </tr>\n",
       "    <tr>\n",
       "      <th>9</th>\n",
       "      <td>2-Layers-700-Node-Max-per-Layer-300-Step-Funnel</td>\n",
       "      <td>2</td>\n",
       "      <td>700</td>\n",
       "      <td>158.336167</td>\n",
       "      <td>1.0</td>\n",
       "      <td>0.976429</td>\n",
       "    </tr>\n",
       "    <tr>\n",
       "      <th>10</th>\n",
       "      <td>2-Layers-700-Node-Max-per-Layer-400-Step-Funnel</td>\n",
       "      <td>2</td>\n",
       "      <td>700</td>\n",
       "      <td>137.659403</td>\n",
       "      <td>1.0</td>\n",
       "      <td>0.977738</td>\n",
       "    </tr>\n",
       "    <tr>\n",
       "      <th>11</th>\n",
       "      <td>2-Layers-700-Node-Max-per-Layer-500-Step-Funnel</td>\n",
       "      <td>2</td>\n",
       "      <td>700</td>\n",
       "      <td>129.029486</td>\n",
       "      <td>1.0</td>\n",
       "      <td>0.976905</td>\n",
       "    </tr>\n",
       "  </tbody>\n",
       "</table>\n",
       "</div>"
      ],
      "text/plain": [
       "                                        Method Name  Layers  \\\n",
       "0    2-Layers-600-Node-Max-per-Layer-50-Step-Funnel       2   \n",
       "1   2-Layers-600-Node-Max-per-Layer-100-Step-Funnel       2   \n",
       "2   2-Layers-600-Node-Max-per-Layer-200-Step-Funnel       2   \n",
       "3   2-Layers-600-Node-Max-per-Layer-300-Step-Funnel       2   \n",
       "4   2-Layers-600-Node-Max-per-Layer-400-Step-Funnel       2   \n",
       "5   2-Layers-600-Node-Max-per-Layer-500-Step-Funnel       2   \n",
       "6    2-Layers-700-Node-Max-per-Layer-50-Step-Funnel       2   \n",
       "7   2-Layers-700-Node-Max-per-Layer-100-Step-Funnel       2   \n",
       "8   2-Layers-700-Node-Max-per-Layer-200-Step-Funnel       2   \n",
       "9   2-Layers-700-Node-Max-per-Layer-300-Step-Funnel       2   \n",
       "10  2-Layers-700-Node-Max-per-Layer-400-Step-Funnel       2   \n",
       "11  2-Layers-700-Node-Max-per-Layer-500-Step-Funnel       2   \n",
       "\n",
       "    Max Nodes per Layer  Processing Time  Training Set Accuracy  \\\n",
       "0                   600       163.875281                    1.0   \n",
       "1                   600       153.912467                    1.0   \n",
       "2                   600       137.655024                    1.0   \n",
       "3                   600       120.750260                    1.0   \n",
       "4                   600       113.476729                    1.0   \n",
       "5                   600       104.801969                    1.0   \n",
       "6                   700       189.018758                    1.0   \n",
       "7                   700       180.718724                    1.0   \n",
       "8                   700       169.886834                    1.0   \n",
       "9                   700       158.336167                    1.0   \n",
       "10                  700       137.659403                    1.0   \n",
       "11                  700       129.029486                    1.0   \n",
       "\n",
       "    Validation Set Accuracy  \n",
       "0                  0.975238  \n",
       "1                  0.977381  \n",
       "2                  0.975595  \n",
       "3                  0.976667  \n",
       "4                  0.976667  \n",
       "5                  0.977143  \n",
       "6                  0.975119  \n",
       "7                  0.975000  \n",
       "8                  0.978810  \n",
       "9                  0.976429  \n",
       "10                 0.977738  \n",
       "11                 0.976905  "
      ]
     },
     "execution_count": 45,
     "metadata": {},
     "output_type": "execute_result"
    }
   ],
   "source": [
    "# Create a table to display results of this experiment\n",
    "results = pd.DataFrame(OrderedDict([('Method Name', names),\n",
    "                        ('Layers', Layers),\n",
    "                        ('Max Nodes per Layer', max_nodes_per_layer),\n",
    "                        ('Processing Time', processing_time),\n",
    "                        ('Training Set Accuracy', training_performance_results),\n",
    "                        ('Validation Set Accuracy', validation_performance_results)]))\n",
    "\n",
    "print('\\nFine Tuning of Model: Tensorflow Deep Neural Networks\\n')\n",
    "results "
   ]
  },
  {
   "cell_type": "markdown",
   "metadata": {},
   "source": [
    "#### <font color='blue'>Table 5: Fine Tuning of Model: Tensorflow Deep Neural Networks</font>"
   ]
  },
  {
   "cell_type": "markdown",
   "metadata": {},
   "source": [
    "This experiment used a loop was used to test several different step sizes between two layers to see how this impacts the model. It is clear from Table 5 that the model with the best score is one with 2-layers designed as a funnel with 600 nodes in the first layer and 100 nodes in the second layer.  This is the design that will be used going forward as the optimal model identified so far."
   ]
  },
  {
   "cell_type": "markdown",
   "metadata": {},
   "source": [
    "### Model 3 - Tensorflow Neural Network Using Scikit-Learn\n",
    "### Test How Epoch Number Impacts Model"
   ]
  },
  {
   "cell_type": "markdown",
   "metadata": {},
   "source": [
    "Now that an good model has been developed in the previous two experiements, the intent of this model is to create a factoral design to evaluate how the number of epochs impacts the model.  An epoch is a unit of measure that is used to describe the entire dataset that is passed through a neural network model during training.  This means that one epoch is when the entire dataset has been passed forward and backward through the model exactly one time, and node connection weights are adjusted accordingly. This unit of measure is important because when training neural networks, the training dataset is often extremely large and prohibitive to pass through the model all at the same time.  Instead, the training dataset is broken up into batches and fed to the model in smaller groups.  Epochs are the measurement used to keep track of these batches and verify that the model is trained on every training observation.  \n",
    "\n",
    "When using only one epoch, the model is typically underfit as it has only been given the opporutnity to see the training data once in one particular batch.  Increasing the number of epochs during training essentially means that the model is seeing the entire dataset an increasing number of times, but with each epoch the batches are randomly selected, allowing the model to continually train the weights of each node connection to better fit the data.  When more epochs than necessary are used during training, the model can begin to overfit the data, which will be demonstrated by increasing training accuracies but a sudden decrase in validation accuracies.  Figure 5 from Sharma (2017) shows how a dataset may be impacted by a varying number of epochs.  The left graphic shows overfitting (too many epochs), the middle graphic shows an optimal fit (optimal number of epochs), and the right graphics shows underfitting (too few epochs).\n",
    "\n",
    "References: Sharma S. (2017, September 23). Epoch vs Batch Size vs Iterations. Retrieved from https://towardsdatascience.com/epoch-vs-iterations-vs-batch-size-4dfb9c7ce9c9"
   ]
  },
  {
   "cell_type": "markdown",
   "metadata": {},
   "source": [
    "![](DNNs_MNIST_GLAWSON_Fig2.png)"
   ]
  },
  {
   "cell_type": "markdown",
   "metadata": {},
   "source": [
    "#### <font color='blue'>Figure 5: Impacts of Varying the Number of Epochs</font>"
   ]
  },
  {
   "cell_type": "markdown",
   "metadata": {},
   "source": [
    "Finding the correct number of epochs is best done through experiementation, as the optimal number will vary with the data and diversity of each dataset.  The 8 epoch values evaluated in this experiment range from 5 to 500.  The first epoch value is relatively low, the next 5 epochs are midrange and have 10-epoch steps, and the last two epoch values will test much larger changes in this hyperparameter."
   ]
  },
  {
   "cell_type": "code",
   "execution_count": 46,
   "metadata": {},
   "outputs": [],
   "source": [
    "# Create names for each iteration of the model\n",
    "names = ['2-Layers-600-Node-Max-per-Layer-Funnel-5-Epochs',\n",
    "         '2-Layers-600-Node-Max-per-Layer-Funnel-10-Epochs',\n",
    "         '2-Layers-600-Node-Max-per-Layer-Funnel-20-Epochs',\n",
    "         '2-Layers-600-Node-Max-per-Layer-Funnel-30-Epochs',\n",
    "         '2-Layers-600-Node-Max-per-Layer-Funnel-40-Epochs',\n",
    "         '2-Layers-600-Node-Max-per-Layer-Funnel-50-Epochs',\n",
    "         '2-Layers-600-Node-Max-per-Layer-Funnel-100-Epochs',\n",
    "         '2-Layers-600-Node-Max-per-Layer-Funnel-500-Epochs']"
   ]
  },
  {
   "cell_type": "code",
   "execution_count": 47,
   "metadata": {},
   "outputs": [],
   "source": [
    "# Define the number of epochs for each iteration of the model\n",
    "epochs = [5,10,20,30,40,50,100,500]"
   ]
  },
  {
   "cell_type": "code",
   "execution_count": 48,
   "metadata": {},
   "outputs": [],
   "source": [
    "# Define the layers for each iteration of the model\n",
    "Layers = [2, 2, 2, 2, 2, 2, 2, 2] "
   ]
  },
  {
   "cell_type": "code",
   "execution_count": 49,
   "metadata": {},
   "outputs": [],
   "source": [
    "# Define the max number of nodes for each iteration of the model.  \n",
    "# This is just informational for the comparison table.\n",
    "max_nodes_per_layer = [600, 600, 600, 600, 600, 600, 600, 600]"
   ]
  },
  {
   "cell_type": "code",
   "execution_count": 50,
   "metadata": {},
   "outputs": [],
   "source": [
    "# Define the number of layers and number of nodes per layer for each iteration of the model.\n",
    "layer1 = [600,100]"
   ]
  },
  {
   "cell_type": "code",
   "execution_count": 51,
   "metadata": {},
   "outputs": [
    {
     "data": {
      "text/plain": [
       "[[600, 100]]"
      ]
     },
     "execution_count": 51,
     "metadata": {},
     "output_type": "execute_result"
    }
   ],
   "source": [
    "# Create a list of the layers to use in each iteration\n",
    "hidden_unit_items = [layer1]\n",
    "type(hidden_unit_items)\n",
    "hidden_unit_items"
   ]
  },
  {
   "cell_type": "code",
   "execution_count": 52,
   "metadata": {},
   "outputs": [],
   "source": [
    "# Create lists to hold the results of each iteration.\n",
    "index_for_method = 0 \n",
    "training_performance_results = []\n",
    "validation_performance_results = []\n",
    "processing_time = []"
   ]
  },
  {
   "cell_type": "code",
   "execution_count": 53,
   "metadata": {
    "scrolled": true
   },
   "outputs": [
    {
     "name": "stdout",
     "output_type": "stream",
     "text": [
      "\n",
      "------------------------------------\n",
      "\n",
      "Method: 2-Layers-600-Node-Max-per-Layer-Funnel-5-Epochs\n",
      "\n",
      "  Specification of method: [600, 100]\n",
      "\n",
      "  Number of Epochs: 5\n",
      "WARNING:tensorflow:Using temporary folder as model directory: C:\\Users\\DELL\\AppData\\Local\\Temp\\tmpfjszzv8u\n",
      "\n",
      "Processing time (seconds): 15.220140\n",
      "\n",
      "Training set accuracy: 0.993810\n",
      "\n",
      "Validation set accuracy: 0.971310\n",
      "\n",
      "------------------------------------\n",
      "\n",
      "Method: 2-Layers-600-Node-Max-per-Layer-Funnel-10-Epochs\n",
      "\n",
      "  Specification of method: [600, 100]\n",
      "\n",
      "  Number of Epochs: 10\n",
      "WARNING:tensorflow:Using temporary folder as model directory: C:\\Users\\DELL\\AppData\\Local\\Temp\\tmp6p0ke06i\n",
      "\n",
      "Processing time (seconds): 28.436096\n",
      "\n",
      "Training set accuracy: 0.999643\n",
      "\n",
      "Validation set accuracy: 0.977024\n",
      "\n",
      "------------------------------------\n",
      "\n",
      "Method: 2-Layers-600-Node-Max-per-Layer-Funnel-20-Epochs\n",
      "\n",
      "  Specification of method: [600, 100]\n",
      "\n",
      "  Number of Epochs: 20\n",
      "WARNING:tensorflow:Using temporary folder as model directory: C:\\Users\\DELL\\AppData\\Local\\Temp\\tmpuru_2ht4\n",
      "\n",
      "Processing time (seconds): 53.684456\n",
      "\n",
      "Training set accuracy: 1.000000\n",
      "\n",
      "Validation set accuracy: 0.979048\n",
      "\n",
      "------------------------------------\n",
      "\n",
      "Method: 2-Layers-600-Node-Max-per-Layer-Funnel-30-Epochs\n",
      "\n",
      "  Specification of method: [600, 100]\n",
      "\n",
      "  Number of Epochs: 30\n",
      "WARNING:tensorflow:Using temporary folder as model directory: C:\\Users\\DELL\\AppData\\Local\\Temp\\tmp427gq57o\n",
      "\n",
      "Processing time (seconds): 79.477215\n",
      "\n",
      "Training set accuracy: 1.000000\n",
      "\n",
      "Validation set accuracy: 0.977738\n",
      "\n",
      "------------------------------------\n",
      "\n",
      "Method: 2-Layers-600-Node-Max-per-Layer-Funnel-40-Epochs\n",
      "\n",
      "  Specification of method: [600, 100]\n",
      "\n",
      "  Number of Epochs: 40\n",
      "WARNING:tensorflow:Using temporary folder as model directory: C:\\Users\\DELL\\AppData\\Local\\Temp\\tmpdpc_i0p9\n",
      "\n",
      "Processing time (seconds): 103.944204\n",
      "\n",
      "Training set accuracy: 1.000000\n",
      "\n",
      "Validation set accuracy: 0.979762\n",
      "\n",
      "------------------------------------\n",
      "\n",
      "Method: 2-Layers-600-Node-Max-per-Layer-Funnel-50-Epochs\n",
      "\n",
      "  Specification of method: [600, 100]\n",
      "\n",
      "  Number of Epochs: 50\n",
      "WARNING:tensorflow:Using temporary folder as model directory: C:\\Users\\DELL\\AppData\\Local\\Temp\\tmpfoe_zcx2\n",
      "\n",
      "Processing time (seconds): 130.421620\n",
      "\n",
      "Training set accuracy: 1.000000\n",
      "\n",
      "Validation set accuracy: 0.978214\n",
      "\n",
      "------------------------------------\n",
      "\n",
      "Method: 2-Layers-600-Node-Max-per-Layer-Funnel-100-Epochs\n",
      "\n",
      "  Specification of method: [600, 100]\n",
      "\n",
      "  Number of Epochs: 100\n",
      "WARNING:tensorflow:Using temporary folder as model directory: C:\\Users\\DELL\\AppData\\Local\\Temp\\tmpgd6r2vbk\n",
      "\n",
      "Processing time (seconds): 262.079209\n",
      "\n",
      "Training set accuracy: 1.000000\n",
      "\n",
      "Validation set accuracy: 0.976905\n",
      "\n",
      "------------------------------------\n",
      "\n",
      "Method: 2-Layers-600-Node-Max-per-Layer-Funnel-500-Epochs\n",
      "\n",
      "  Specification of method: [600, 100]\n",
      "\n",
      "  Number of Epochs: 500\n",
      "WARNING:tensorflow:Using temporary folder as model directory: C:\\Users\\DELL\\AppData\\Local\\Temp\\tmph3jd9t0g\n",
      "\n",
      "Processing time (seconds): 1297.400388\n",
      "\n",
      "Training set accuracy: 1.000000\n",
      "\n",
      "Validation set accuracy: 0.978214\n"
     ]
    }
   ],
   "source": [
    "for name, epoch in zip(names, epochs):\n",
    "    print('\\n------------------------------------')\n",
    "    print('\\nMethod:', name)\n",
    "    print('\\n  Specification of method:', layer1)\n",
    "    print('\\n  Number of Epochs:', epoch)\n",
    "    start_time = time.clock()\n",
    "    \n",
    "    tf.set_random_seed(RANDOM_SEED)\n",
    "    feature_cols = [tf.feature_column.numeric_column(\"X\", shape=[28 * 28])]\n",
    "    dnn_clf = tf.estimator.DNNClassifier(hidden_units=layer1, n_classes=10,\n",
    "                                         feature_columns=feature_cols)\n",
    "    \n",
    "    tf.logging.set_verbosity(tf.logging.WARN) # surpress progress report, only show warnings.  This was added\n",
    "                                        # to increase usability when uploaded to GitHub.\n",
    "            \n",
    "    # Train the model\n",
    "    input_fn = tf.estimator.inputs.numpy_input_fn(\n",
    "        x={\"X\": X_train}, y=y_train, num_epochs=epoch, batch_size=50, shuffle=True)\n",
    "    dnn_clf.train(input_fn=input_fn)\n",
    "    \n",
    "    end_time = time.clock() # end timer\n",
    "    runtime = end_time - start_time  # seconds of wall-clock time \n",
    "    print(\"\\nProcessing time (seconds): %f\" % runtime)  # print process time to train model        \n",
    "    processing_time.append(runtime) # append process time results to list for comparison table\n",
    "    \n",
    "    # Evaluate the model \n",
    "    train_input_fn = tf.estimator.inputs.numpy_input_fn(\n",
    "        x={\"X\": X_train}, y=y_train, shuffle=False)\n",
    "    train_eval_results = dnn_clf.evaluate(input_fn=train_input_fn) # training results\n",
    "    \n",
    "    valid_input_fn = tf.estimator.inputs.numpy_input_fn(\n",
    "        x={\"X\": X_valid}, y=y_valid, shuffle=False)\n",
    "    valid_eval_results = dnn_clf.evaluate(input_fn=valid_input_fn) # validation results\n",
    "        \n",
    "    \n",
    "    # mean accuracy of prediction in training set\n",
    "    training_performance = train_eval_results['accuracy']\n",
    "    print(\"\\nTraining set accuracy: %f\" % training_performance)\n",
    "    training_performance_results.append(training_performance) # append results to list for comparison table\n",
    "\n",
    "    # mean accuracy of prediction in test set\n",
    "    validation_performance = valid_eval_results['accuracy']\n",
    "    print(\"\\nValidation set accuracy: %f\" % validation_performance)\n",
    "    validation_performance_results.append(validation_performance) # append results to list for comparison table\n",
    "                \n",
    "    index_for_method += 1"
   ]
  },
  {
   "cell_type": "code",
   "execution_count": 54,
   "metadata": {
    "scrolled": true
   },
   "outputs": [
    {
     "name": "stdout",
     "output_type": "stream",
     "text": [
      "\n",
      "Epoch Impact Experiment: Tensorflow Deep Neural Networks\n",
      "\n"
     ]
    },
    {
     "data": {
      "text/html": [
       "<div>\n",
       "<style scoped>\n",
       "    .dataframe tbody tr th:only-of-type {\n",
       "        vertical-align: middle;\n",
       "    }\n",
       "\n",
       "    .dataframe tbody tr th {\n",
       "        vertical-align: top;\n",
       "    }\n",
       "\n",
       "    .dataframe thead th {\n",
       "        text-align: right;\n",
       "    }\n",
       "</style>\n",
       "<table border=\"1\" class=\"dataframe\">\n",
       "  <thead>\n",
       "    <tr style=\"text-align: right;\">\n",
       "      <th></th>\n",
       "      <th>Method Name</th>\n",
       "      <th>Layers</th>\n",
       "      <th>Max Nodes per Layer</th>\n",
       "      <th>Processing Time</th>\n",
       "      <th>Training Set Accuracy</th>\n",
       "      <th>Validation Set Accuracy</th>\n",
       "    </tr>\n",
       "  </thead>\n",
       "  <tbody>\n",
       "    <tr>\n",
       "      <th>0</th>\n",
       "      <td>2-Layers-600-Node-Max-per-Layer-Funnel-5-Epochs</td>\n",
       "      <td>2</td>\n",
       "      <td>600</td>\n",
       "      <td>15.220140</td>\n",
       "      <td>0.993810</td>\n",
       "      <td>0.971310</td>\n",
       "    </tr>\n",
       "    <tr>\n",
       "      <th>1</th>\n",
       "      <td>2-Layers-600-Node-Max-per-Layer-Funnel-10-Epochs</td>\n",
       "      <td>2</td>\n",
       "      <td>600</td>\n",
       "      <td>28.436096</td>\n",
       "      <td>0.999643</td>\n",
       "      <td>0.977024</td>\n",
       "    </tr>\n",
       "    <tr>\n",
       "      <th>2</th>\n",
       "      <td>2-Layers-600-Node-Max-per-Layer-Funnel-20-Epochs</td>\n",
       "      <td>2</td>\n",
       "      <td>600</td>\n",
       "      <td>53.684456</td>\n",
       "      <td>1.000000</td>\n",
       "      <td>0.979048</td>\n",
       "    </tr>\n",
       "    <tr>\n",
       "      <th>3</th>\n",
       "      <td>2-Layers-600-Node-Max-per-Layer-Funnel-30-Epochs</td>\n",
       "      <td>2</td>\n",
       "      <td>600</td>\n",
       "      <td>79.477215</td>\n",
       "      <td>1.000000</td>\n",
       "      <td>0.977738</td>\n",
       "    </tr>\n",
       "    <tr>\n",
       "      <th>4</th>\n",
       "      <td>2-Layers-600-Node-Max-per-Layer-Funnel-40-Epochs</td>\n",
       "      <td>2</td>\n",
       "      <td>600</td>\n",
       "      <td>103.944204</td>\n",
       "      <td>1.000000</td>\n",
       "      <td>0.979762</td>\n",
       "    </tr>\n",
       "    <tr>\n",
       "      <th>5</th>\n",
       "      <td>2-Layers-600-Node-Max-per-Layer-Funnel-50-Epochs</td>\n",
       "      <td>2</td>\n",
       "      <td>600</td>\n",
       "      <td>130.421620</td>\n",
       "      <td>1.000000</td>\n",
       "      <td>0.978214</td>\n",
       "    </tr>\n",
       "    <tr>\n",
       "      <th>6</th>\n",
       "      <td>2-Layers-600-Node-Max-per-Layer-Funnel-100-Epochs</td>\n",
       "      <td>2</td>\n",
       "      <td>600</td>\n",
       "      <td>262.079209</td>\n",
       "      <td>1.000000</td>\n",
       "      <td>0.976905</td>\n",
       "    </tr>\n",
       "    <tr>\n",
       "      <th>7</th>\n",
       "      <td>2-Layers-600-Node-Max-per-Layer-Funnel-500-Epochs</td>\n",
       "      <td>2</td>\n",
       "      <td>600</td>\n",
       "      <td>1297.400388</td>\n",
       "      <td>1.000000</td>\n",
       "      <td>0.978214</td>\n",
       "    </tr>\n",
       "  </tbody>\n",
       "</table>\n",
       "</div>"
      ],
      "text/plain": [
       "                                         Method Name  Layers  \\\n",
       "0    2-Layers-600-Node-Max-per-Layer-Funnel-5-Epochs       2   \n",
       "1   2-Layers-600-Node-Max-per-Layer-Funnel-10-Epochs       2   \n",
       "2   2-Layers-600-Node-Max-per-Layer-Funnel-20-Epochs       2   \n",
       "3   2-Layers-600-Node-Max-per-Layer-Funnel-30-Epochs       2   \n",
       "4   2-Layers-600-Node-Max-per-Layer-Funnel-40-Epochs       2   \n",
       "5   2-Layers-600-Node-Max-per-Layer-Funnel-50-Epochs       2   \n",
       "6  2-Layers-600-Node-Max-per-Layer-Funnel-100-Epochs       2   \n",
       "7  2-Layers-600-Node-Max-per-Layer-Funnel-500-Epochs       2   \n",
       "\n",
       "   Max Nodes per Layer  Processing Time  Training Set Accuracy  \\\n",
       "0                  600        15.220140               0.993810   \n",
       "1                  600        28.436096               0.999643   \n",
       "2                  600        53.684456               1.000000   \n",
       "3                  600        79.477215               1.000000   \n",
       "4                  600       103.944204               1.000000   \n",
       "5                  600       130.421620               1.000000   \n",
       "6                  600       262.079209               1.000000   \n",
       "7                  600      1297.400388               1.000000   \n",
       "\n",
       "   Validation Set Accuracy  \n",
       "0                 0.971310  \n",
       "1                 0.977024  \n",
       "2                 0.979048  \n",
       "3                 0.977738  \n",
       "4                 0.979762  \n",
       "5                 0.978214  \n",
       "6                 0.976905  \n",
       "7                 0.978214  "
      ]
     },
     "execution_count": 54,
     "metadata": {},
     "output_type": "execute_result"
    }
   ],
   "source": [
    "# Create a table to display results of this experiment\n",
    "results = pd.DataFrame(OrderedDict([('Method Name', names),\n",
    "                        ('Layers', Layers),\n",
    "                        ('Max Nodes per Layer', max_nodes_per_layer),\n",
    "                        ('Processing Time', processing_time),\n",
    "                        ('Training Set Accuracy', training_performance_results),\n",
    "                        ('Validation Set Accuracy', validation_performance_results)]))\n",
    "\n",
    "print('\\nEpoch Impact Experiment: Tensorflow Deep Neural Networks\\n')\n",
    "results "
   ]
  },
  {
   "cell_type": "markdown",
   "metadata": {},
   "source": [
    "#### <font color='blue'>Table 6: Epoch Impact Experiment: Tensorflow Deep Neural Networks</font>"
   ]
  },
  {
   "cell_type": "markdown",
   "metadata": {},
   "source": [
    "This experiment used a loop was used to test several different epoch numbers to see how this impacts the model.  It is clear from Table 6 that as more epochs are added, the model takes progressively more time to train.  However, using the accuracy of the validation set predictions as a determining factor, it is evident that more epochs does not always result in better accuracy for unseen data (in this case the validation data).  As has been discussed, too many epochs begins to lead to overfitting of the training data, reducing the ability for the model to generalize.  Using these results, 40 epochs appears to be the optimal value for accuracy and will be used for the final model."
   ]
  },
  {
   "cell_type": "markdown",
   "metadata": {},
   "source": [
    "## Model Predictions"
   ]
  },
  {
   "cell_type": "markdown",
   "metadata": {},
   "source": [
    "Using what has been learned from the previous experiements, the best model identified so far will be used to make test predictions which will be submitted to Kaggle."
   ]
  },
  {
   "cell_type": "code",
   "execution_count": 55,
   "metadata": {
    "scrolled": true
   },
   "outputs": [
    {
     "name": "stdout",
     "output_type": "stream",
     "text": [
      "WARNING:tensorflow:Using temporary folder as model directory: C:\\Users\\DELL\\AppData\\Local\\Temp\\tmp_f3z131f\n"
     ]
    },
    {
     "data": {
      "text/plain": [
       "<tensorflow.python.estimator.canned.dnn.DNNClassifier at 0x1ee436bfc50>"
      ]
     },
     "execution_count": 55,
     "metadata": {},
     "output_type": "execute_result"
    }
   ],
   "source": [
    "# Use the optimal number of layers and nodes to create a final model\n",
    "tf.set_random_seed(RANDOM_SEED)\n",
    "feature_cols = [tf.feature_column.numeric_column(\"X\", shape=[28 * 28])]\n",
    "dnn_clf = tf.estimator.DNNClassifier(hidden_units=[600,100], n_classes=10,\n",
    "                                     feature_columns=feature_cols)\n",
    "\n",
    "tf.logging.set_verbosity(tf.logging.WARN) # surpress progress report, only show warnings.  This was added\n",
    "                                    # to increase usability when uploaded to GitHub.\n",
    "\n",
    "# Train the model\n",
    "input_fn = tf.estimator.inputs.numpy_input_fn(\n",
    "    x={\"X\": X_train}, y=y_train, num_epochs=40, batch_size=50, shuffle=True)\n",
    "dnn_clf.train(input_fn=input_fn)"
   ]
  },
  {
   "cell_type": "code",
   "execution_count": 56,
   "metadata": {
    "scrolled": true
   },
   "outputs": [
    {
     "name": "stdout",
     "output_type": "stream",
     "text": [
      "\n",
      "Training set accuracy: 1.000000\n",
      "\n",
      "Validation set accuracy: 0.977857\n"
     ]
    }
   ],
   "source": [
    "tf.logging.set_verbosity(tf.logging.WARN) # surpress progress report, only show warnings.  This was added\n",
    "                                    # to increase usability when uploaded to GitHub.\n",
    "            \n",
    "# Check the accuracy one more time\n",
    "train_input_fn = tf.estimator.inputs.numpy_input_fn(\n",
    "    x={\"X\": X_train}, y=y_train, shuffle=False)\n",
    "train_eval_results = dnn_clf.evaluate(input_fn=train_input_fn) # training results\n",
    "\n",
    "valid_input_fn = tf.estimator.inputs.numpy_input_fn(\n",
    "    x={\"X\": X_valid}, y=y_valid, shuffle=False)\n",
    "valid_eval_results = dnn_clf.evaluate(input_fn=valid_input_fn) # validation results\n",
    "\n",
    "\n",
    "# mean accuracy of prediction in training set\n",
    "training_performance = train_eval_results['accuracy']\n",
    "print(\"\\nTraining set accuracy: %f\" % training_performance)\n",
    "training_performance_results.append(training_performance) # append results to list for comparison table\n",
    "\n",
    "# mean accuracy of prediction in test set\n",
    "validation_performance = valid_eval_results['accuracy']\n",
    "print(\"\\nValidation set accuracy: %f\" % validation_performance)\n",
    "validation_performance_results.append(validation_performance) # append results to list for comparison table"
   ]
  },
  {
   "cell_type": "code",
   "execution_count": 57,
   "metadata": {},
   "outputs": [],
   "source": [
    "# Make predictions on the test data\n",
    "test_input_fn = tf.estimator.inputs.numpy_input_fn(\n",
    "    x={\"X\": X_test}, shuffle=False)\n",
    "\n",
    "predictions = list(dnn_clf.predict(input_fn=test_input_fn))\n",
    "predicted_classes = [p[\"class_ids\"] for p in predictions]\n",
    "preds = [i[0] for i in predicted_classes]\n",
    "\n",
    "d = {'Label': preds}\n",
    "predictions_df = pd.DataFrame(data=d)\n",
    "\n",
    "np.savetxt('predit_submission.csv', \n",
    "                  np.c_[range(1,len(X_test)+1),predictions_df], \n",
    "                  delimiter=',', \n",
    "                  header = 'ImageId,Label', \n",
    "                  comments = '', \n",
    "                  fmt='%s')"
   ]
  },
  {
   "cell_type": "markdown",
   "metadata": {},
   "source": [
    "The previous experiements were used to help focus in on the correct hyperparameters to chose to optimize this DNN model.  This final model used a 2-layer funnel design with the first layer having 600 nodes and the second layer having 100 nodes.  A total of 40 epochs were used to train the model.  The final accuracy of the validation set is pretty impressive at 0.978691.  The predictions made using this model were submitted to Kaggle with the following results.    \n",
    "\n",
    "Kaggle Submit Date: 3/26/2019\n",
    "\n",
    "Kaggle Score: 0.97614\n",
    "\n",
    "Kaggle Competition Rank: 1789\n",
    "\n",
    "Kaggle User ID: GaryLawson."
   ]
  },
  {
   "cell_type": "markdown",
   "metadata": {},
   "source": [
    "### Model 4 - Tensorflow Neural Network "
   ]
  },
  {
   "cell_type": "markdown",
   "metadata": {},
   "source": [
    "Using the Scikit-Learn API to develop DNNs was pretty straightforward, but having a full Tensorflow model in the toolkit is great to have.  Model 4 will look to mimic the final model identified using the experiements conducted above.   "
   ]
  },
  {
   "cell_type": "code",
   "execution_count": 58,
   "metadata": {},
   "outputs": [],
   "source": [
    "# to make this notebook's output stable across runs\n",
    "def reset_graph(seed=42):\n",
    "    tf.reset_default_graph()\n",
    "    tf.set_random_seed(seed)\n",
    "    np.random.seed(seed)"
   ]
  },
  {
   "cell_type": "code",
   "execution_count": 59,
   "metadata": {},
   "outputs": [],
   "source": [
    "n_inputs = 28*28  # MNIST\n",
    "n_hidden1 = 600\n",
    "n_hidden2 = 100\n",
    "n_outputs = 10"
   ]
  },
  {
   "cell_type": "code",
   "execution_count": 60,
   "metadata": {},
   "outputs": [],
   "source": [
    "# to make this notebook's output stable across runs\n",
    "def reset_graph(seed=RANDOM_SEED):\n",
    "    tf.reset_default_graph()\n",
    "    tf.set_random_seed(seed)\n",
    "    np.random.seed(seed)"
   ]
  },
  {
   "cell_type": "code",
   "execution_count": 61,
   "metadata": {},
   "outputs": [],
   "source": [
    "reset_graph()\n",
    "\n",
    "X = tf.placeholder(tf.float32, shape=(None, n_inputs), name=\"X\")\n",
    "y = tf.placeholder(tf.int32, shape=(None), name=\"y\")"
   ]
  },
  {
   "cell_type": "code",
   "execution_count": 62,
   "metadata": {},
   "outputs": [],
   "source": [
    "with tf.name_scope(\"dnn\"):\n",
    "    hidden1 = tf.layers.dense(X, n_hidden1, name=\"hidden1\",\n",
    "                           activation=tf.nn.relu)\n",
    "    hidden2 = tf.layers.dense(hidden1, n_hidden2, name=\"hidden2\",\n",
    "                           activation=tf.nn.relu)\n",
    "    logits = tf.layers.dense(hidden2, n_outputs, name=\"outputs\")"
   ]
  },
  {
   "cell_type": "code",
   "execution_count": 63,
   "metadata": {},
   "outputs": [],
   "source": [
    "with tf.name_scope(\"loss\"):\n",
    "    xentropy = tf.nn.sparse_softmax_cross_entropy_with_logits(labels=y,\n",
    "                                                              logits=logits)\n",
    "    loss = tf.reduce_mean(xentropy, name=\"loss\")"
   ]
  },
  {
   "cell_type": "code",
   "execution_count": 64,
   "metadata": {},
   "outputs": [],
   "source": [
    "learning_rate = 0.01\n",
    "\n",
    "with tf.name_scope(\"train\"):\n",
    "    optimizer = tf.train.GradientDescentOptimizer(learning_rate)\n",
    "    training_op = optimizer.minimize(loss)"
   ]
  },
  {
   "cell_type": "code",
   "execution_count": 65,
   "metadata": {},
   "outputs": [],
   "source": [
    "learning_rate = 0.01\n",
    "\n",
    "with tf.name_scope(\"train\"):\n",
    "    optimizer = tf.train.AdagradOptimizer(learning_rate) # AdaGrad is the default optimizer for DNNClassifier()\n",
    "    training_op = optimizer.minimize(loss)"
   ]
  },
  {
   "cell_type": "code",
   "execution_count": 66,
   "metadata": {},
   "outputs": [],
   "source": [
    "with tf.name_scope(\"eval\"):\n",
    "    correct = tf.nn.in_top_k(logits, y, 1)\n",
    "    accuracy = tf.reduce_mean(tf.cast(correct, tf.float32))"
   ]
  },
  {
   "cell_type": "code",
   "execution_count": 67,
   "metadata": {},
   "outputs": [],
   "source": [
    "init = tf.global_variables_initializer()\n",
    "saver = tf.train.Saver()"
   ]
  },
  {
   "cell_type": "code",
   "execution_count": 68,
   "metadata": {},
   "outputs": [],
   "source": [
    "n_epochs = 40\n",
    "batch_size = 50"
   ]
  },
  {
   "cell_type": "code",
   "execution_count": 69,
   "metadata": {},
   "outputs": [],
   "source": [
    "def shuffle_batch(X, y, batch_size):\n",
    "    rnd_idx = np.random.permutation(len(X))\n",
    "    n_batches = len(X) // batch_size\n",
    "    for batch_idx in np.array_split(rnd_idx, n_batches):\n",
    "        X_batch, y_batch = X[batch_idx], y[batch_idx]\n",
    "        yield X_batch, y_batch"
   ]
  },
  {
   "cell_type": "code",
   "execution_count": 70,
   "metadata": {
    "scrolled": true
   },
   "outputs": [
    {
     "name": "stdout",
     "output_type": "stream",
     "text": [
      "0 Batch accuracy: 0.98 Val accuracy: 0.91511905\n",
      "1 Batch accuracy: 0.86 Val accuracy: 0.9347619\n",
      "2 Batch accuracy: 0.96 Val accuracy: 0.9432143\n",
      "3 Batch accuracy: 0.96 Val accuracy: 0.9486905\n",
      "4 Batch accuracy: 1.0 Val accuracy: 0.9545238\n",
      "5 Batch accuracy: 0.96 Val accuracy: 0.95738095\n",
      "6 Batch accuracy: 0.98 Val accuracy: 0.9597619\n",
      "7 Batch accuracy: 0.96 Val accuracy: 0.96130955\n",
      "8 Batch accuracy: 1.0 Val accuracy: 0.9635714\n",
      "9 Batch accuracy: 0.96 Val accuracy: 0.96559525\n",
      "10 Batch accuracy: 0.98 Val accuracy: 0.965\n",
      "11 Batch accuracy: 0.94 Val accuracy: 0.96738094\n",
      "12 Batch accuracy: 1.0 Val accuracy: 0.96940476\n",
      "13 Batch accuracy: 0.96 Val accuracy: 0.9690476\n",
      "14 Batch accuracy: 0.98 Val accuracy: 0.97083336\n",
      "15 Batch accuracy: 0.98 Val accuracy: 0.9720238\n",
      "16 Batch accuracy: 0.98 Val accuracy: 0.97238094\n",
      "17 Batch accuracy: 0.98 Val accuracy: 0.97261906\n",
      "18 Batch accuracy: 1.0 Val accuracy: 0.97238094\n",
      "19 Batch accuracy: 1.0 Val accuracy: 0.97369045\n",
      "20 Batch accuracy: 1.0 Val accuracy: 0.9742857\n",
      "21 Batch accuracy: 1.0 Val accuracy: 0.97321427\n",
      "22 Batch accuracy: 1.0 Val accuracy: 0.97309524\n",
      "23 Batch accuracy: 1.0 Val accuracy: 0.97380954\n",
      "24 Batch accuracy: 1.0 Val accuracy: 0.9739286\n",
      "25 Batch accuracy: 0.98 Val accuracy: 0.9745238\n",
      "26 Batch accuracy: 1.0 Val accuracy: 0.97380954\n",
      "27 Batch accuracy: 1.0 Val accuracy: 0.975\n",
      "28 Batch accuracy: 1.0 Val accuracy: 0.97488093\n",
      "29 Batch accuracy: 1.0 Val accuracy: 0.975\n",
      "30 Batch accuracy: 1.0 Val accuracy: 0.97511905\n",
      "31 Batch accuracy: 1.0 Val accuracy: 0.9753571\n",
      "32 Batch accuracy: 1.0 Val accuracy: 0.9760714\n",
      "33 Batch accuracy: 1.0 Val accuracy: 0.97559524\n",
      "34 Batch accuracy: 1.0 Val accuracy: 0.9753571\n",
      "35 Batch accuracy: 1.0 Val accuracy: 0.9753571\n",
      "36 Batch accuracy: 1.0 Val accuracy: 0.97642857\n",
      "37 Batch accuracy: 1.0 Val accuracy: 0.9759524\n",
      "38 Batch accuracy: 1.0 Val accuracy: 0.97630954\n",
      "39 Batch accuracy: 1.0 Val accuracy: 0.97583336\n"
     ]
    }
   ],
   "source": [
    "with tf.Session() as sess:\n",
    "    init.run()\n",
    "    for epoch in range(n_epochs):\n",
    "        for X_batch, y_batch in shuffle_batch(X_train, y_train, batch_size):\n",
    "            sess.run(training_op, feed_dict={X: X_batch, y: y_batch})\n",
    "        acc_batch = accuracy.eval(feed_dict={X: X_batch, y: y_batch})\n",
    "        acc_val = accuracy.eval(feed_dict={X: X_valid, y: y_valid})\n",
    "        print(epoch, \"Batch accuracy:\", acc_batch, \"Val accuracy:\", acc_val)\n",
    "\n",
    "    save_path = saver.save(sess, \"./MNIST_tf_Model.ckpt\")"
   ]
  },
  {
   "cell_type": "code",
   "execution_count": 71,
   "metadata": {},
   "outputs": [],
   "source": [
    "# Make predictions on test data\n",
    "with tf.Session() as sess:\n",
    "    saver.restore(sess, \"./MNIST_tf_Model.ckpt\") # or better, use save_path\n",
    "    Z = logits.eval(feed_dict={X: X_test})\n",
    "    y_pred = np.argmax(Z, axis=1)"
   ]
  },
  {
   "cell_type": "code",
   "execution_count": 72,
   "metadata": {},
   "outputs": [],
   "source": [
    "d = {'Label': y_pred}\n",
    "predictions_df = pd.DataFrame(data=d)\n",
    "\n",
    "predictions_df.index = np.arange(1, len(predictions_df) + 1)\n",
    "predictions_df.index.name = 'ImageID'\n",
    "\n",
    "predictions_df.to_csv('predit_submission_tf.csv') "
   ]
  },
  {
   "cell_type": "markdown",
   "metadata": {},
   "source": [
    "Building a Tensorflow model is much more involved than using the Scikit-Learn API, but adds additional flexibility.  To become proficient with the use of Tensorflow, a much stronger understanding of neural networks and the mathematics behind how they are built and optimized is recommended.\n",
    "\n",
    "Using the same hyperparameters, this model scores right in line with the model developed earlier using the Scikit-Learn API. This is expected because the Scikit-Learn API uses Tensorflow on the back end to build, train, and use the DNN.\n",
    "\n",
    "The predictions made using this model were submitted to Kaggle with the following results.    \n",
    "\n",
    "Kaggle Submit Date: 3/26/2019\n",
    "\n",
    "Kaggle Score: 0.97642\n",
    "\n",
    "Kaggle Competition Rank: 1780\n",
    "\n",
    "Kaggle User ID: GaryLawson."
   ]
  },
  {
   "cell_type": "markdown",
   "metadata": {},
   "source": [
    "## Model 5 - Keras Neural Network"
   ]
  },
  {
   "cell_type": "markdown",
   "metadata": {},
   "source": [
    "The final model that will use Keras to mimic the models above.  Keras is another high-level neural network API that runs ontop of Tensorflow to help increase usability when developing and training DNNs."
   ]
  },
  {
   "cell_type": "code",
   "execution_count": 73,
   "metadata": {},
   "outputs": [],
   "source": [
    "# Transform y variables into categorical for use in Keras\n",
    "y_train_keras = tf.keras.utils.to_categorical(y_train, 10)\n",
    "y_valid_keras = tf.keras.utils.to_categorical(y_valid, 10)"
   ]
  },
  {
   "cell_type": "code",
   "execution_count": 74,
   "metadata": {},
   "outputs": [],
   "source": [
    "# Define the parameters of the model\n",
    "n_inputs = 28*28  # MNIST\n",
    "n_hidden1 = 600\n",
    "n_hidden2 = 100\n",
    "n_outputs = 10\n",
    "\n",
    "n_epochs = 40"
   ]
  },
  {
   "cell_type": "code",
   "execution_count": 75,
   "metadata": {},
   "outputs": [
    {
     "name": "stdout",
     "output_type": "stream",
     "text": [
      "Train on 33600 samples, validate on 8400 samples\n",
      "Epoch 1/40\n",
      "33600/33600 [==============================] - 7s 194us/step - loss: 0.2316 - categorical_accuracy: 0.9308 - val_loss: 0.1274 - val_categorical_accuracy: 0.9607\n",
      "Epoch 2/40\n",
      "33600/33600 [==============================] - 6s 183us/step - loss: 0.0946 - categorical_accuracy: 0.9718 - val_loss: 0.0962 - val_categorical_accuracy: 0.9700\n",
      "Epoch 3/40\n",
      "33600/33600 [==============================] - 6s 187us/step - loss: 0.0639 - categorical_accuracy: 0.9814 - val_loss: 0.0898 - val_categorical_accuracy: 0.9729\n",
      "Epoch 4/40\n",
      "33600/33600 [==============================] - 6s 182us/step - loss: 0.0464 - categorical_accuracy: 0.9869 - val_loss: 0.0825 - val_categorical_accuracy: 0.9744\n",
      "Epoch 5/40\n",
      "33600/33600 [==============================] - 6s 188us/step - loss: 0.0351 - categorical_accuracy: 0.9907 - val_loss: 0.0752 - val_categorical_accuracy: 0.9775\n",
      "Epoch 6/40\n",
      "33600/33600 [==============================] - 6s 187us/step - loss: 0.0267 - categorical_accuracy: 0.9939 - val_loss: 0.0754 - val_categorical_accuracy: 0.9775\n",
      "Epoch 7/40\n",
      "33600/33600 [==============================] - 6s 182us/step - loss: 0.0204 - categorical_accuracy: 0.9962 - val_loss: 0.0741 - val_categorical_accuracy: 0.9781\n",
      "Epoch 8/40\n",
      "33600/33600 [==============================] - 6s 188us/step - loss: 0.0162 - categorical_accuracy: 0.9972 - val_loss: 0.0726 - val_categorical_accuracy: 0.9774\n",
      "Epoch 9/40\n",
      "33600/33600 [==============================] - 6s 182us/step - loss: 0.0130 - categorical_accuracy: 0.9984 - val_loss: 0.0720 - val_categorical_accuracy: 0.9783\n",
      "Epoch 10/40\n",
      "33600/33600 [==============================] - 6s 187us/step - loss: 0.0104 - categorical_accuracy: 0.9990 - val_loss: 0.0710 - val_categorical_accuracy: 0.9795\n",
      "Epoch 11/40\n",
      "33600/33600 [==============================] - 6s 187us/step - loss: 0.0087 - categorical_accuracy: 0.9993 - val_loss: 0.0725 - val_categorical_accuracy: 0.9787\n",
      "Epoch 12/40\n",
      "33600/33600 [==============================] - 6s 183us/step - loss: 0.0071 - categorical_accuracy: 0.9995 - val_loss: 0.0711 - val_categorical_accuracy: 0.9794\n",
      "Epoch 13/40\n",
      "33600/33600 [==============================] - 6s 188us/step - loss: 0.0062 - categorical_accuracy: 0.9996 - val_loss: 0.0723 - val_categorical_accuracy: 0.9788\n",
      "Epoch 14/40\n",
      "33600/33600 [==============================] - 6s 182us/step - loss: 0.0052 - categorical_accuracy: 0.9998 - val_loss: 0.0715 - val_categorical_accuracy: 0.9796\n",
      "Epoch 15/40\n",
      "33600/33600 [==============================] - 6s 188us/step - loss: 0.0045 - categorical_accuracy: 0.9998 - val_loss: 0.0722 - val_categorical_accuracy: 0.9794\n",
      "Epoch 16/40\n",
      "33600/33600 [==============================] - 6s 188us/step - loss: 0.0039 - categorical_accuracy: 0.9999 - val_loss: 0.0729 - val_categorical_accuracy: 0.9795\n",
      "Epoch 17/40\n",
      "33600/33600 [==============================] - 6s 182us/step - loss: 0.0035 - categorical_accuracy: 0.9999 - val_loss: 0.0728 - val_categorical_accuracy: 0.9796\n",
      "Epoch 18/40\n",
      "33600/33600 [==============================] - 6s 187us/step - loss: 0.0030 - categorical_accuracy: 1.0000 - val_loss: 0.0733 - val_categorical_accuracy: 0.9793\n",
      "Epoch 19/40\n",
      "33600/33600 [==============================] - 6s 184us/step - loss: 0.0027 - categorical_accuracy: 1.0000 - val_loss: 0.0731 - val_categorical_accuracy: 0.9794\n",
      "Epoch 20/40\n",
      "33600/33600 [==============================] - 6s 187us/step - loss: 0.0025 - categorical_accuracy: 1.0000 - val_loss: 0.0742 - val_categorical_accuracy: 0.9801\n",
      "Epoch 21/40\n",
      "33600/33600 [==============================] - 6s 188us/step - loss: 0.0023 - categorical_accuracy: 1.0000 - val_loss: 0.0746 - val_categorical_accuracy: 0.9798\n",
      "Epoch 22/40\n",
      "33600/33600 [==============================] - 6s 184us/step - loss: 0.0021 - categorical_accuracy: 1.0000 - val_loss: 0.0745 - val_categorical_accuracy: 0.9800\n",
      "Epoch 23/40\n",
      "33600/33600 [==============================] - 6s 187us/step - loss: 0.0019 - categorical_accuracy: 1.0000 - val_loss: 0.0755 - val_categorical_accuracy: 0.9796\n",
      "Epoch 24/40\n",
      "33600/33600 [==============================] - 6s 183us/step - loss: 0.0018 - categorical_accuracy: 1.0000 - val_loss: 0.0753 - val_categorical_accuracy: 0.9801\n",
      "Epoch 25/40\n",
      "33600/33600 [==============================] - 7s 195us/step - loss: 0.0016 - categorical_accuracy: 1.0000 - val_loss: 0.0750 - val_categorical_accuracy: 0.9801\n",
      "Epoch 26/40\n",
      "33600/33600 [==============================] - 7s 195us/step - loss: 0.0015 - categorical_accuracy: 1.0000 - val_loss: 0.0756 - val_categorical_accuracy: 0.9802\n",
      "Epoch 27/40\n",
      "33600/33600 [==============================] - 6s 182us/step - loss: 0.0014 - categorical_accuracy: 1.0000 - val_loss: 0.0766 - val_categorical_accuracy: 0.9799\n",
      "Epoch 28/40\n",
      "33600/33600 [==============================] - 6s 190us/step - loss: 0.0013 - categorical_accuracy: 1.0000 - val_loss: 0.0762 - val_categorical_accuracy: 0.9800\n",
      "Epoch 29/40\n",
      "33600/33600 [==============================] - 6s 184us/step - loss: 0.0013 - categorical_accuracy: 1.0000 - val_loss: 0.0763 - val_categorical_accuracy: 0.9799\n",
      "Epoch 30/40\n",
      "33600/33600 [==============================] - 6s 188us/step - loss: 0.0012 - categorical_accuracy: 1.0000 - val_loss: 0.0765 - val_categorical_accuracy: 0.9798\n",
      "Epoch 31/40\n",
      "33600/33600 [==============================] - 6s 189us/step - loss: 0.0011 - categorical_accuracy: 1.0000 - val_loss: 0.0766 - val_categorical_accuracy: 0.9799\n",
      "Epoch 32/40\n",
      "33600/33600 [==============================] - 6s 182us/step - loss: 0.0011 - categorical_accuracy: 1.0000 - val_loss: 0.0770 - val_categorical_accuracy: 0.9801\n",
      "Epoch 33/40\n",
      "33600/33600 [==============================] - 6s 188us/step - loss: 0.0010 - categorical_accuracy: 1.0000 - val_loss: 0.0774 - val_categorical_accuracy: 0.9802\n",
      "Epoch 34/40\n",
      "33600/33600 [==============================] - 6s 183us/step - loss: 9.5751e-04 - categorical_accuracy: 1.0000 - val_loss: 0.0774 - val_categorical_accuracy: 0.9804\n",
      "Epoch 35/40\n",
      "33600/33600 [==============================] - 6s 189us/step - loss: 9.1682e-04 - categorical_accuracy: 1.0000 - val_loss: 0.0776 - val_categorical_accuracy: 0.9800\n",
      "Epoch 36/40\n",
      "33600/33600 [==============================] - 6s 189us/step - loss: 8.7439e-04 - categorical_accuracy: 1.0000 - val_loss: 0.0783 - val_categorical_accuracy: 0.9802\n",
      "Epoch 37/40\n",
      "33600/33600 [==============================] - 6s 183us/step - loss: 8.3417e-04 - categorical_accuracy: 1.0000 - val_loss: 0.0788 - val_categorical_accuracy: 0.9801\n",
      "Epoch 38/40\n",
      "33600/33600 [==============================] - 6s 189us/step - loss: 8.0103e-04 - categorical_accuracy: 1.0000 - val_loss: 0.0783 - val_categorical_accuracy: 0.9805\n",
      "Epoch 39/40\n",
      "33600/33600 [==============================] - 6s 184us/step - loss: 7.6676e-04 - categorical_accuracy: 1.0000 - val_loss: 0.0787 - val_categorical_accuracy: 0.9804\n",
      "Epoch 40/40\n",
      "33600/33600 [==============================] - 6s 190us/step - loss: 7.3633e-04 - categorical_accuracy: 1.0000 - val_loss: 0.0794 - val_categorical_accuracy: 0.9804\n"
     ]
    }
   ],
   "source": [
    "# Initiate model\n",
    "model = tf.keras.Sequential()\n",
    "\n",
    "# Add hidden layers\n",
    "model.add(layers.Dense(n_hidden1,input_dim=n_inputs,activation='relu'))\n",
    "model.add(layers.Dense(n_hidden2,input_dim=n_inputs,activation='relu'))\n",
    "\n",
    "# Add output layer and activation\n",
    "model.add(layers.Dense(n_outputs, activation='softmax'))\n",
    "\n",
    "# Set Optimizer and Loss function.  Use AdaGrad since this is what was used in Scikit-Learn DNNClassifier()\n",
    "model.compile(optimizer=\"adagrad\", loss='categorical_crossentropy',metrics=['categorical_accuracy']) \n",
    "history=model.fit(X_train, y_train_keras, epochs=n_epochs, validation_data=(X_valid, y_valid_keras))"
   ]
  },
  {
   "cell_type": "code",
   "execution_count": 76,
   "metadata": {},
   "outputs": [],
   "source": [
    "# Make predictions, reshape, and save to csv file\n",
    "mypred=model.predict(X_test)\n",
    "\n",
    "label = np.argmax(mypred, axis=1)\n",
    "\n",
    "test_id = np.reshape(range(1, len(mypred) + 1), label.shape)\n",
    "\n",
    "my_submission = pd.DataFrame({'ImageId': test_id, 'Label': label})\n",
    "my_submission.to_csv('predit_submission_keras.csv', index=False)"
   ]
  },
  {
   "cell_type": "code",
   "execution_count": 77,
   "metadata": {
    "scrolled": false
   },
   "outputs": [
    {
     "data": {
      "text/html": [
       "<div>\n",
       "<style scoped>\n",
       "    .dataframe tbody tr th:only-of-type {\n",
       "        vertical-align: middle;\n",
       "    }\n",
       "\n",
       "    .dataframe tbody tr th {\n",
       "        vertical-align: top;\n",
       "    }\n",
       "\n",
       "    .dataframe thead th {\n",
       "        text-align: right;\n",
       "    }\n",
       "</style>\n",
       "<table border=\"1\" class=\"dataframe\">\n",
       "  <thead>\n",
       "    <tr style=\"text-align: right;\">\n",
       "      <th></th>\n",
       "      <th>val_loss</th>\n",
       "      <th>val_categorical_accuracy</th>\n",
       "      <th>loss</th>\n",
       "      <th>categorical_accuracy</th>\n",
       "    </tr>\n",
       "  </thead>\n",
       "  <tbody>\n",
       "    <tr>\n",
       "      <th>0</th>\n",
       "      <td>0.127401</td>\n",
       "      <td>0.960714</td>\n",
       "      <td>0.231572</td>\n",
       "      <td>0.930774</td>\n",
       "    </tr>\n",
       "    <tr>\n",
       "      <th>1</th>\n",
       "      <td>0.096223</td>\n",
       "      <td>0.970000</td>\n",
       "      <td>0.094623</td>\n",
       "      <td>0.971756</td>\n",
       "    </tr>\n",
       "    <tr>\n",
       "      <th>2</th>\n",
       "      <td>0.089779</td>\n",
       "      <td>0.972857</td>\n",
       "      <td>0.063940</td>\n",
       "      <td>0.981399</td>\n",
       "    </tr>\n",
       "    <tr>\n",
       "      <th>3</th>\n",
       "      <td>0.082523</td>\n",
       "      <td>0.974405</td>\n",
       "      <td>0.046362</td>\n",
       "      <td>0.986935</td>\n",
       "    </tr>\n",
       "    <tr>\n",
       "      <th>4</th>\n",
       "      <td>0.075182</td>\n",
       "      <td>0.977500</td>\n",
       "      <td>0.035088</td>\n",
       "      <td>0.990655</td>\n",
       "    </tr>\n",
       "    <tr>\n",
       "      <th>5</th>\n",
       "      <td>0.075444</td>\n",
       "      <td>0.977500</td>\n",
       "      <td>0.026660</td>\n",
       "      <td>0.993899</td>\n",
       "    </tr>\n",
       "    <tr>\n",
       "      <th>6</th>\n",
       "      <td>0.074111</td>\n",
       "      <td>0.978095</td>\n",
       "      <td>0.020402</td>\n",
       "      <td>0.996220</td>\n",
       "    </tr>\n",
       "    <tr>\n",
       "      <th>7</th>\n",
       "      <td>0.072581</td>\n",
       "      <td>0.977381</td>\n",
       "      <td>0.016217</td>\n",
       "      <td>0.997173</td>\n",
       "    </tr>\n",
       "    <tr>\n",
       "      <th>8</th>\n",
       "      <td>0.072026</td>\n",
       "      <td>0.978333</td>\n",
       "      <td>0.012956</td>\n",
       "      <td>0.998393</td>\n",
       "    </tr>\n",
       "    <tr>\n",
       "      <th>9</th>\n",
       "      <td>0.071015</td>\n",
       "      <td>0.979524</td>\n",
       "      <td>0.010433</td>\n",
       "      <td>0.998958</td>\n",
       "    </tr>\n",
       "    <tr>\n",
       "      <th>10</th>\n",
       "      <td>0.072533</td>\n",
       "      <td>0.978690</td>\n",
       "      <td>0.008738</td>\n",
       "      <td>0.999256</td>\n",
       "    </tr>\n",
       "    <tr>\n",
       "      <th>11</th>\n",
       "      <td>0.071072</td>\n",
       "      <td>0.979405</td>\n",
       "      <td>0.007142</td>\n",
       "      <td>0.999494</td>\n",
       "    </tr>\n",
       "    <tr>\n",
       "      <th>12</th>\n",
       "      <td>0.072285</td>\n",
       "      <td>0.978810</td>\n",
       "      <td>0.006163</td>\n",
       "      <td>0.999583</td>\n",
       "    </tr>\n",
       "    <tr>\n",
       "      <th>13</th>\n",
       "      <td>0.071483</td>\n",
       "      <td>0.979643</td>\n",
       "      <td>0.005200</td>\n",
       "      <td>0.999821</td>\n",
       "    </tr>\n",
       "    <tr>\n",
       "      <th>14</th>\n",
       "      <td>0.072181</td>\n",
       "      <td>0.979405</td>\n",
       "      <td>0.004548</td>\n",
       "      <td>0.999821</td>\n",
       "    </tr>\n",
       "    <tr>\n",
       "      <th>15</th>\n",
       "      <td>0.072909</td>\n",
       "      <td>0.979524</td>\n",
       "      <td>0.003933</td>\n",
       "      <td>0.999881</td>\n",
       "    </tr>\n",
       "    <tr>\n",
       "      <th>16</th>\n",
       "      <td>0.072794</td>\n",
       "      <td>0.979643</td>\n",
       "      <td>0.003504</td>\n",
       "      <td>0.999881</td>\n",
       "    </tr>\n",
       "    <tr>\n",
       "      <th>17</th>\n",
       "      <td>0.073265</td>\n",
       "      <td>0.979286</td>\n",
       "      <td>0.003047</td>\n",
       "      <td>1.000000</td>\n",
       "    </tr>\n",
       "    <tr>\n",
       "      <th>18</th>\n",
       "      <td>0.073147</td>\n",
       "      <td>0.979405</td>\n",
       "      <td>0.002732</td>\n",
       "      <td>1.000000</td>\n",
       "    </tr>\n",
       "    <tr>\n",
       "      <th>19</th>\n",
       "      <td>0.074216</td>\n",
       "      <td>0.980119</td>\n",
       "      <td>0.002484</td>\n",
       "      <td>1.000000</td>\n",
       "    </tr>\n",
       "    <tr>\n",
       "      <th>20</th>\n",
       "      <td>0.074578</td>\n",
       "      <td>0.979762</td>\n",
       "      <td>0.002270</td>\n",
       "      <td>1.000000</td>\n",
       "    </tr>\n",
       "    <tr>\n",
       "      <th>21</th>\n",
       "      <td>0.074517</td>\n",
       "      <td>0.980000</td>\n",
       "      <td>0.002060</td>\n",
       "      <td>1.000000</td>\n",
       "    </tr>\n",
       "    <tr>\n",
       "      <th>22</th>\n",
       "      <td>0.075538</td>\n",
       "      <td>0.979643</td>\n",
       "      <td>0.001901</td>\n",
       "      <td>1.000000</td>\n",
       "    </tr>\n",
       "    <tr>\n",
       "      <th>23</th>\n",
       "      <td>0.075293</td>\n",
       "      <td>0.980119</td>\n",
       "      <td>0.001773</td>\n",
       "      <td>1.000000</td>\n",
       "    </tr>\n",
       "    <tr>\n",
       "      <th>24</th>\n",
       "      <td>0.075042</td>\n",
       "      <td>0.980119</td>\n",
       "      <td>0.001633</td>\n",
       "      <td>1.000000</td>\n",
       "    </tr>\n",
       "    <tr>\n",
       "      <th>25</th>\n",
       "      <td>0.075612</td>\n",
       "      <td>0.980238</td>\n",
       "      <td>0.001529</td>\n",
       "      <td>1.000000</td>\n",
       "    </tr>\n",
       "    <tr>\n",
       "      <th>26</th>\n",
       "      <td>0.076550</td>\n",
       "      <td>0.979881</td>\n",
       "      <td>0.001423</td>\n",
       "      <td>1.000000</td>\n",
       "    </tr>\n",
       "    <tr>\n",
       "      <th>27</th>\n",
       "      <td>0.076229</td>\n",
       "      <td>0.980000</td>\n",
       "      <td>0.001339</td>\n",
       "      <td>1.000000</td>\n",
       "    </tr>\n",
       "    <tr>\n",
       "      <th>28</th>\n",
       "      <td>0.076330</td>\n",
       "      <td>0.979881</td>\n",
       "      <td>0.001267</td>\n",
       "      <td>1.000000</td>\n",
       "    </tr>\n",
       "    <tr>\n",
       "      <th>29</th>\n",
       "      <td>0.076521</td>\n",
       "      <td>0.979762</td>\n",
       "      <td>0.001183</td>\n",
       "      <td>1.000000</td>\n",
       "    </tr>\n",
       "    <tr>\n",
       "      <th>30</th>\n",
       "      <td>0.076643</td>\n",
       "      <td>0.979881</td>\n",
       "      <td>0.001122</td>\n",
       "      <td>1.000000</td>\n",
       "    </tr>\n",
       "    <tr>\n",
       "      <th>31</th>\n",
       "      <td>0.077035</td>\n",
       "      <td>0.980119</td>\n",
       "      <td>0.001065</td>\n",
       "      <td>1.000000</td>\n",
       "    </tr>\n",
       "    <tr>\n",
       "      <th>32</th>\n",
       "      <td>0.077387</td>\n",
       "      <td>0.980238</td>\n",
       "      <td>0.001012</td>\n",
       "      <td>1.000000</td>\n",
       "    </tr>\n",
       "    <tr>\n",
       "      <th>33</th>\n",
       "      <td>0.077446</td>\n",
       "      <td>0.980357</td>\n",
       "      <td>0.000958</td>\n",
       "      <td>1.000000</td>\n",
       "    </tr>\n",
       "    <tr>\n",
       "      <th>34</th>\n",
       "      <td>0.077554</td>\n",
       "      <td>0.980000</td>\n",
       "      <td>0.000917</td>\n",
       "      <td>1.000000</td>\n",
       "    </tr>\n",
       "    <tr>\n",
       "      <th>35</th>\n",
       "      <td>0.078274</td>\n",
       "      <td>0.980238</td>\n",
       "      <td>0.000874</td>\n",
       "      <td>1.000000</td>\n",
       "    </tr>\n",
       "    <tr>\n",
       "      <th>36</th>\n",
       "      <td>0.078790</td>\n",
       "      <td>0.980119</td>\n",
       "      <td>0.000834</td>\n",
       "      <td>1.000000</td>\n",
       "    </tr>\n",
       "    <tr>\n",
       "      <th>37</th>\n",
       "      <td>0.078251</td>\n",
       "      <td>0.980476</td>\n",
       "      <td>0.000801</td>\n",
       "      <td>1.000000</td>\n",
       "    </tr>\n",
       "    <tr>\n",
       "      <th>38</th>\n",
       "      <td>0.078747</td>\n",
       "      <td>0.980357</td>\n",
       "      <td>0.000767</td>\n",
       "      <td>1.000000</td>\n",
       "    </tr>\n",
       "    <tr>\n",
       "      <th>39</th>\n",
       "      <td>0.079360</td>\n",
       "      <td>0.980357</td>\n",
       "      <td>0.000736</td>\n",
       "      <td>1.000000</td>\n",
       "    </tr>\n",
       "  </tbody>\n",
       "</table>\n",
       "</div>"
      ],
      "text/plain": [
       "    val_loss  val_categorical_accuracy      loss  categorical_accuracy\n",
       "0   0.127401                  0.960714  0.231572              0.930774\n",
       "1   0.096223                  0.970000  0.094623              0.971756\n",
       "2   0.089779                  0.972857  0.063940              0.981399\n",
       "3   0.082523                  0.974405  0.046362              0.986935\n",
       "4   0.075182                  0.977500  0.035088              0.990655\n",
       "5   0.075444                  0.977500  0.026660              0.993899\n",
       "6   0.074111                  0.978095  0.020402              0.996220\n",
       "7   0.072581                  0.977381  0.016217              0.997173\n",
       "8   0.072026                  0.978333  0.012956              0.998393\n",
       "9   0.071015                  0.979524  0.010433              0.998958\n",
       "10  0.072533                  0.978690  0.008738              0.999256\n",
       "11  0.071072                  0.979405  0.007142              0.999494\n",
       "12  0.072285                  0.978810  0.006163              0.999583\n",
       "13  0.071483                  0.979643  0.005200              0.999821\n",
       "14  0.072181                  0.979405  0.004548              0.999821\n",
       "15  0.072909                  0.979524  0.003933              0.999881\n",
       "16  0.072794                  0.979643  0.003504              0.999881\n",
       "17  0.073265                  0.979286  0.003047              1.000000\n",
       "18  0.073147                  0.979405  0.002732              1.000000\n",
       "19  0.074216                  0.980119  0.002484              1.000000\n",
       "20  0.074578                  0.979762  0.002270              1.000000\n",
       "21  0.074517                  0.980000  0.002060              1.000000\n",
       "22  0.075538                  0.979643  0.001901              1.000000\n",
       "23  0.075293                  0.980119  0.001773              1.000000\n",
       "24  0.075042                  0.980119  0.001633              1.000000\n",
       "25  0.075612                  0.980238  0.001529              1.000000\n",
       "26  0.076550                  0.979881  0.001423              1.000000\n",
       "27  0.076229                  0.980000  0.001339              1.000000\n",
       "28  0.076330                  0.979881  0.001267              1.000000\n",
       "29  0.076521                  0.979762  0.001183              1.000000\n",
       "30  0.076643                  0.979881  0.001122              1.000000\n",
       "31  0.077035                  0.980119  0.001065              1.000000\n",
       "32  0.077387                  0.980238  0.001012              1.000000\n",
       "33  0.077446                  0.980357  0.000958              1.000000\n",
       "34  0.077554                  0.980000  0.000917              1.000000\n",
       "35  0.078274                  0.980238  0.000874              1.000000\n",
       "36  0.078790                  0.980119  0.000834              1.000000\n",
       "37  0.078251                  0.980476  0.000801              1.000000\n",
       "38  0.078747                  0.980357  0.000767              1.000000\n",
       "39  0.079360                  0.980357  0.000736              1.000000"
      ]
     },
     "execution_count": 77,
     "metadata": {},
     "output_type": "execute_result"
    }
   ],
   "source": [
    "# Create a table of the results by epoch for easier review\n",
    "mytable=pd.DataFrame(history.history)\n",
    "mytable"
   ]
  },
  {
   "cell_type": "markdown",
   "metadata": {},
   "source": [
    "#### <font color='blue'>Table 7: DNN Results by Epoch Using Keras</font>"
   ]
  },
  {
   "cell_type": "code",
   "execution_count": 78,
   "metadata": {
    "scrolled": false
   },
   "outputs": [
    {
     "data": {
      "image/png": "[encoded data removed]",
      "text/plain": [
       "<Figure size 432x288 with 1 Axes>"
      ]
     },
     "metadata": {
      "needs_background": "light"
     },
     "output_type": "display_data"
    },
    {
     "data": {
      "image/png": "[encoded data removed]",
      "text/plain": [
       "<Figure size 432x288 with 1 Axes>"
      ]
     },
     "metadata": {
      "needs_background": "light"
     },
     "output_type": "display_data"
    }
   ],
   "source": [
    "###Plot####\n",
    "#print(history.history.keys())\n",
    "plt.plot(history.history['categorical_accuracy'])\n",
    "plt.plot(history.history['val_categorical_accuracy'])\n",
    "plt.title('Model Accuracy')\n",
    "plt.ylabel('Accuracy')\n",
    "plt.xlabel('Epoch')\n",
    "plt.legend(['train', 'valid'], loc='upper left')\n",
    "plt.show()\n",
    "# summarize history for loss\n",
    "plt.plot(history.history['loss'])\n",
    "plt.plot(history.history['val_loss'])\n",
    "plt.title('Model Loss')\n",
    "plt.ylabel('Loss')\n",
    "plt.xlabel('Epoch')\n",
    "plt.legend(['train', 'valid'], loc='upper left')\n",
    "plt.show()"
   ]
  },
  {
   "cell_type": "markdown",
   "metadata": {},
   "source": [
    "#### <font color='blue'>Figure 6: Model Accuracy and Model Loss as a Function of the Number of Epochs</font>"
   ]
  },
  {
   "cell_type": "markdown",
   "metadata": {},
   "source": [
    "Using Keras has again provided similar results to the Scikit-Learn API and the Tensorflow model, though this Keras model does seem to provide better accruacy when using the same hyperparameters.  While the increase in validation accuracy appears to result in an increased accuracy in the Kaggle competition as well, this may be due to the random nature of the DNN graph weights being initiated in each version of the model.\n",
    "\n",
    "Keras has streamlined the use of Tensorflow, but kept most of the ability to customize the development of a DNN.  With this model, graphs showing the Model Accuracy and Model Loss with each epoch are displayed in Figure 6, helping to provide a visual of how the model is learning and then teaching itself in each epoch.\n",
    "\n",
    "The predictions made using this model were submitted to Kaggle with the following results.    \n",
    "\n",
    "Kaggle Submit Date: 3/26/2019\n",
    "\n",
    "Kaggle Score: 0.97714\n",
    "\n",
    "Kaggle Competition Rank: 1755\n",
    "\n",
    "Kaggle User ID: GaryLawson."
   ]
  },
  {
   "cell_type": "markdown",
   "metadata": {},
   "source": [
    "## Conclusion"
   ]
  },
  {
   "cell_type": "markdown",
   "metadata": {},
   "source": [
    "Deep neural networks are an amazing tool in the machine learning space that have revolutionized the ability for models to leverage data to learn how combinations of features impact the target response variable with little guidance from the data scientist.  In a lot of cases the result can be an increased level of target response predictions when compared to other machine learning methods.  \n",
    "\n",
    "As seen with this example of handwritten digits, DNNs have a lot of promise and can be trained relatively quickly, and ulitimately provide terrific accuracy.  From a business standpoint, an experiment like this shows that DNNs can offer opportunities to help reduce costs through automation of image recognition and increase accuracy by limiting the amount of manual human interaction that is required to review such images."
   ]
  }
 ],
 "metadata": {
  "kernelspec": {
   "display_name": "Python 3",
   "language": "python",
   "name": "python3"
  },
  "language_info": {
   "codemirror_mode": {
    "name": "ipython",
    "version": 3
   },
   "file_extension": ".py",
   "mimetype": "text/x-python",
   "name": "python",
   "nbconvert_exporter": "python",
   "pygments_lexer": "ipython3",
   "version": "3.6.8"
  }
 },
 "nbformat": 4,
 "nbformat_minor": 2
}
